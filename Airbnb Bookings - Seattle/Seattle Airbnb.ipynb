{
 "cells": [
  {
   "cell_type": "markdown",
   "id": "f4437456-155f-44d0-98a9-bbcad99bcbc0",
   "metadata": {},
   "source": [
    "<style>\n",
    "body {\n",
    "    background: #0F0F0F;\n",
    "    display: flex;\n",
    "    align-items: center;\n",
    "    justify-content: space-between;\n",
    "    min-height: 100vh;\n",
    "    font-family: 'Fira Code', monospace;\n",
    "    font-size: 36px;\n",
    "    color: rgba(0,150,0,0.75);\n",
    "    text-shadow: 0 0 5px rgba(0,150,0,0.5), 0 0 15px rgba(0,200,0,1);\n",
    "    animation: Pulse 1.5s ease infinite;\n",
    "}\n",
    "\n",
    "@keyframes Pulse {\n",
    "    0% { opacity: 0 }\n",
    "    50% { opacity: 1 }\n",
    "    100% { opacity: 0 }\n",
    "}\n",
    "</style>\n",
    "\n",
    "<div style=\"display: flex; flex-direction: row; align-items: center;\">\n",
    "    <div style=\"text-align: left;\">\n",
    "        <p style=\"color: rgba(0,150,0,0.75); font-family: 'Fira Code', monospace; font-size: 40px; text-shadow: 0 0 5px rgba(0,150,0,0.5), 0 0 50px rgba(0,200,0,1);\">Seattle Airbnb Open Data Analysis</p>\n",
    "    </div>\n",
    "    <div style=\"text-align: right; margin-left: 450px;\">\n",
    "        <img src=\"https://media.licdn.com/dms/image/D4D0BAQGJFlP6_QGxcg/company-logo_200_200/0/1693121104957?e=2147483647&v=beta&t=X9L4xkfYe_LsgUKpIh8LGzQqlyCF_Q0blASn5nDEeyQ\" alt=\"Airbnb Logo\" width=\"200\" height=\"200\">\n",
    "    </div>\n",
    "</div>\n"
   ]
  },
  {
   "cell_type": "code",
   "execution_count": 1,
   "id": "080ca799",
   "metadata": {},
   "outputs": [],
   "source": [
    "import pandas as pd\n",
    "import numpy as np\n",
    "import matplotlib.pyplot as plt\n",
    "import seaborn as sns\n",
    "import squarify"
   ]
  },
  {
   "cell_type": "code",
   "execution_count": 2,
   "id": "207b55d7",
   "metadata": {},
   "outputs": [],
   "source": [
    "import warnings\n",
    "warnings.filterwarnings('ignore')"
   ]
  },
  {
   "cell_type": "markdown",
   "id": "f341ac89",
   "metadata": {},
   "source": [
    "<div>\n",
    "    <div style=\"float: left;\">\n",
    "        <h2><font color='289C4E'>Table of contents</font></h2>\n",
    "        <a class='anchor' id='top'></a>\n",
    "        <ul>\n",
    "            <li><a href=\"#1\">Calendar Data</a></li>\n",
    "            <li><a href=\"#2\">Listings Data</a></li>\n",
    "            <li><a href=\"#3\">EDA</a></li>\n",
    "            <li><a href=\"#4\">Price Analysis</a></li>\n",
    "            <li><a href=\"#5\">Conclusion</a></li>\n",
    "        </ul>\n",
    "    </div>\n",
    "    <div style=\"float: right; margin-left: 20px;\">\n",
    "        <img src=\"https://www.logo.wine/a/logo/Airbnb/Airbnb-Logo.wine.svg\" alt=\"Airbnb 4ogo\" width=\"300\" height=\"200\">\n",
    "    </div>\n",
    "</div>\n",
    "</div>\n",
    "</div>\n"
   ]
  },
  {
   "cell_type": "code",
   "execution_count": 3,
   "id": "7f36ac88",
   "metadata": {},
   "outputs": [],
   "source": [
    "cal = pd.read_csv('calendar.csv')\n",
    "li = pd.read_csv('listings.csv')\n",
    "rev = pd.read_csv('reviews.csv')"
   ]
  },
  {
   "cell_type": "code",
   "execution_count": 4,
   "id": "7b63f717",
   "metadata": {},
   "outputs": [
    {
     "data": {
      "text/html": [
       "<div>\n",
       "<style scoped>\n",
       "    .dataframe tbody tr th:only-of-type {\n",
       "        vertical-align: middle;\n",
       "    }\n",
       "\n",
       "    .dataframe tbody tr th {\n",
       "        vertical-align: top;\n",
       "    }\n",
       "\n",
       "    .dataframe thead th {\n",
       "        text-align: right;\n",
       "    }\n",
       "</style>\n",
       "<table border=\"1\" class=\"dataframe\">\n",
       "  <thead>\n",
       "    <tr style=\"text-align: right;\">\n",
       "      <th></th>\n",
       "      <th>listing_id</th>\n",
       "      <th>date</th>\n",
       "      <th>available</th>\n",
       "      <th>price</th>\n",
       "    </tr>\n",
       "  </thead>\n",
       "  <tbody>\n",
       "    <tr>\n",
       "      <th>0</th>\n",
       "      <td>241032</td>\n",
       "      <td>2016-01-04</td>\n",
       "      <td>t</td>\n",
       "      <td>$85.00</td>\n",
       "    </tr>\n",
       "    <tr>\n",
       "      <th>1</th>\n",
       "      <td>241032</td>\n",
       "      <td>2016-01-05</td>\n",
       "      <td>t</td>\n",
       "      <td>$85.00</td>\n",
       "    </tr>\n",
       "    <tr>\n",
       "      <th>2</th>\n",
       "      <td>241032</td>\n",
       "      <td>2016-01-06</td>\n",
       "      <td>f</td>\n",
       "      <td>NaN</td>\n",
       "    </tr>\n",
       "    <tr>\n",
       "      <th>3</th>\n",
       "      <td>241032</td>\n",
       "      <td>2016-01-07</td>\n",
       "      <td>f</td>\n",
       "      <td>NaN</td>\n",
       "    </tr>\n",
       "    <tr>\n",
       "      <th>4</th>\n",
       "      <td>241032</td>\n",
       "      <td>2016-01-08</td>\n",
       "      <td>f</td>\n",
       "      <td>NaN</td>\n",
       "    </tr>\n",
       "  </tbody>\n",
       "</table>\n",
       "</div>"
      ],
      "text/plain": [
       "   listing_id        date available   price\n",
       "0      241032  2016-01-04         t  $85.00\n",
       "1      241032  2016-01-05         t  $85.00\n",
       "2      241032  2016-01-06         f     NaN\n",
       "3      241032  2016-01-07         f     NaN\n",
       "4      241032  2016-01-08         f     NaN"
      ]
     },
     "execution_count": 4,
     "metadata": {},
     "output_type": "execute_result"
    }
   ],
   "source": [
    "cal.head()"
   ]
  },
  {
   "cell_type": "code",
   "execution_count": 5,
   "id": "0e1a1054",
   "metadata": {
    "scrolled": true
   },
   "outputs": [
    {
     "data": {
      "text/html": [
       "<div>\n",
       "<style scoped>\n",
       "    .dataframe tbody tr th:only-of-type {\n",
       "        vertical-align: middle;\n",
       "    }\n",
       "\n",
       "    .dataframe tbody tr th {\n",
       "        vertical-align: top;\n",
       "    }\n",
       "\n",
       "    .dataframe thead th {\n",
       "        text-align: right;\n",
       "    }\n",
       "</style>\n",
       "<table border=\"1\" class=\"dataframe\">\n",
       "  <thead>\n",
       "    <tr style=\"text-align: right;\">\n",
       "      <th></th>\n",
       "      <th>id</th>\n",
       "      <th>listing_url</th>\n",
       "      <th>scrape_id</th>\n",
       "      <th>last_scraped</th>\n",
       "      <th>name</th>\n",
       "      <th>summary</th>\n",
       "      <th>space</th>\n",
       "      <th>description</th>\n",
       "      <th>experiences_offered</th>\n",
       "      <th>neighborhood_overview</th>\n",
       "      <th>...</th>\n",
       "      <th>review_scores_value</th>\n",
       "      <th>requires_license</th>\n",
       "      <th>license</th>\n",
       "      <th>jurisdiction_names</th>\n",
       "      <th>instant_bookable</th>\n",
       "      <th>cancellation_policy</th>\n",
       "      <th>require_guest_profile_picture</th>\n",
       "      <th>require_guest_phone_verification</th>\n",
       "      <th>calculated_host_listings_count</th>\n",
       "      <th>reviews_per_month</th>\n",
       "    </tr>\n",
       "  </thead>\n",
       "  <tbody>\n",
       "    <tr>\n",
       "      <th>0</th>\n",
       "      <td>241032</td>\n",
       "      <td>https://www.airbnb.com/rooms/241032</td>\n",
       "      <td>20160104002432</td>\n",
       "      <td>2016-01-04</td>\n",
       "      <td>Stylish Queen Anne Apartment</td>\n",
       "      <td>NaN</td>\n",
       "      <td>Make your self at home in this charming one-be...</td>\n",
       "      <td>Make your self at home in this charming one-be...</td>\n",
       "      <td>none</td>\n",
       "      <td>NaN</td>\n",
       "      <td>...</td>\n",
       "      <td>10.0</td>\n",
       "      <td>f</td>\n",
       "      <td>NaN</td>\n",
       "      <td>WASHINGTON</td>\n",
       "      <td>f</td>\n",
       "      <td>moderate</td>\n",
       "      <td>f</td>\n",
       "      <td>f</td>\n",
       "      <td>2</td>\n",
       "      <td>4.07</td>\n",
       "    </tr>\n",
       "    <tr>\n",
       "      <th>1</th>\n",
       "      <td>953595</td>\n",
       "      <td>https://www.airbnb.com/rooms/953595</td>\n",
       "      <td>20160104002432</td>\n",
       "      <td>2016-01-04</td>\n",
       "      <td>Bright &amp; Airy Queen Anne Apartment</td>\n",
       "      <td>Chemically sensitive? We've removed the irrita...</td>\n",
       "      <td>Beautiful, hypoallergenic apartment in an extr...</td>\n",
       "      <td>Chemically sensitive? We've removed the irrita...</td>\n",
       "      <td>none</td>\n",
       "      <td>Queen Anne is a wonderful, truly functional vi...</td>\n",
       "      <td>...</td>\n",
       "      <td>10.0</td>\n",
       "      <td>f</td>\n",
       "      <td>NaN</td>\n",
       "      <td>WASHINGTON</td>\n",
       "      <td>f</td>\n",
       "      <td>strict</td>\n",
       "      <td>t</td>\n",
       "      <td>t</td>\n",
       "      <td>6</td>\n",
       "      <td>1.48</td>\n",
       "    </tr>\n",
       "  </tbody>\n",
       "</table>\n",
       "<p>2 rows × 92 columns</p>\n",
       "</div>"
      ],
      "text/plain": [
       "       id                          listing_url       scrape_id last_scraped  \\\n",
       "0  241032  https://www.airbnb.com/rooms/241032  20160104002432   2016-01-04   \n",
       "1  953595  https://www.airbnb.com/rooms/953595  20160104002432   2016-01-04   \n",
       "\n",
       "                                 name  \\\n",
       "0        Stylish Queen Anne Apartment   \n",
       "1  Bright & Airy Queen Anne Apartment   \n",
       "\n",
       "                                             summary  \\\n",
       "0                                                NaN   \n",
       "1  Chemically sensitive? We've removed the irrita...   \n",
       "\n",
       "                                               space  \\\n",
       "0  Make your self at home in this charming one-be...   \n",
       "1  Beautiful, hypoallergenic apartment in an extr...   \n",
       "\n",
       "                                         description experiences_offered  \\\n",
       "0  Make your self at home in this charming one-be...                none   \n",
       "1  Chemically sensitive? We've removed the irrita...                none   \n",
       "\n",
       "                               neighborhood_overview  ... review_scores_value  \\\n",
       "0                                                NaN  ...                10.0   \n",
       "1  Queen Anne is a wonderful, truly functional vi...  ...                10.0   \n",
       "\n",
       "  requires_license license jurisdiction_names instant_bookable  \\\n",
       "0                f     NaN         WASHINGTON                f   \n",
       "1                f     NaN         WASHINGTON                f   \n",
       "\n",
       "  cancellation_policy  require_guest_profile_picture  \\\n",
       "0            moderate                              f   \n",
       "1              strict                              t   \n",
       "\n",
       "  require_guest_phone_verification calculated_host_listings_count  \\\n",
       "0                                f                              2   \n",
       "1                                t                              6   \n",
       "\n",
       "  reviews_per_month  \n",
       "0              4.07  \n",
       "1              1.48  \n",
       "\n",
       "[2 rows x 92 columns]"
      ]
     },
     "execution_count": 5,
     "metadata": {},
     "output_type": "execute_result"
    }
   ],
   "source": [
    "li.head(2)"
   ]
  },
  {
   "cell_type": "code",
   "execution_count": 6,
   "id": "2b11ba29",
   "metadata": {},
   "outputs": [
    {
     "data": {
      "text/html": [
       "<div>\n",
       "<style scoped>\n",
       "    .dataframe tbody tr th:only-of-type {\n",
       "        vertical-align: middle;\n",
       "    }\n",
       "\n",
       "    .dataframe tbody tr th {\n",
       "        vertical-align: top;\n",
       "    }\n",
       "\n",
       "    .dataframe thead th {\n",
       "        text-align: right;\n",
       "    }\n",
       "</style>\n",
       "<table border=\"1\" class=\"dataframe\">\n",
       "  <thead>\n",
       "    <tr style=\"text-align: right;\">\n",
       "      <th></th>\n",
       "      <th>listing_id</th>\n",
       "      <th>id</th>\n",
       "      <th>date</th>\n",
       "      <th>reviewer_id</th>\n",
       "      <th>reviewer_name</th>\n",
       "      <th>comments</th>\n",
       "    </tr>\n",
       "  </thead>\n",
       "  <tbody>\n",
       "    <tr>\n",
       "      <th>0</th>\n",
       "      <td>7202016</td>\n",
       "      <td>38917982</td>\n",
       "      <td>2015-07-19</td>\n",
       "      <td>28943674</td>\n",
       "      <td>Bianca</td>\n",
       "      <td>Cute and cozy place. Perfect location to every...</td>\n",
       "    </tr>\n",
       "    <tr>\n",
       "      <th>1</th>\n",
       "      <td>7202016</td>\n",
       "      <td>39087409</td>\n",
       "      <td>2015-07-20</td>\n",
       "      <td>32440555</td>\n",
       "      <td>Frank</td>\n",
       "      <td>Kelly has a great room in a very central locat...</td>\n",
       "    </tr>\n",
       "    <tr>\n",
       "      <th>2</th>\n",
       "      <td>7202016</td>\n",
       "      <td>39820030</td>\n",
       "      <td>2015-07-26</td>\n",
       "      <td>37722850</td>\n",
       "      <td>Ian</td>\n",
       "      <td>Very spacious apartment, and in a great neighb...</td>\n",
       "    </tr>\n",
       "    <tr>\n",
       "      <th>3</th>\n",
       "      <td>7202016</td>\n",
       "      <td>40813543</td>\n",
       "      <td>2015-08-02</td>\n",
       "      <td>33671805</td>\n",
       "      <td>George</td>\n",
       "      <td>Close to Seattle Center and all it has to offe...</td>\n",
       "    </tr>\n",
       "    <tr>\n",
       "      <th>4</th>\n",
       "      <td>7202016</td>\n",
       "      <td>41986501</td>\n",
       "      <td>2015-08-10</td>\n",
       "      <td>34959538</td>\n",
       "      <td>Ming</td>\n",
       "      <td>Kelly was a great host and very accommodating ...</td>\n",
       "    </tr>\n",
       "  </tbody>\n",
       "</table>\n",
       "</div>"
      ],
      "text/plain": [
       "   listing_id        id        date  reviewer_id reviewer_name  \\\n",
       "0     7202016  38917982  2015-07-19     28943674        Bianca   \n",
       "1     7202016  39087409  2015-07-20     32440555         Frank   \n",
       "2     7202016  39820030  2015-07-26     37722850           Ian   \n",
       "3     7202016  40813543  2015-08-02     33671805        George   \n",
       "4     7202016  41986501  2015-08-10     34959538          Ming   \n",
       "\n",
       "                                            comments  \n",
       "0  Cute and cozy place. Perfect location to every...  \n",
       "1  Kelly has a great room in a very central locat...  \n",
       "2  Very spacious apartment, and in a great neighb...  \n",
       "3  Close to Seattle Center and all it has to offe...  \n",
       "4  Kelly was a great host and very accommodating ...  "
      ]
     },
     "execution_count": 6,
     "metadata": {},
     "output_type": "execute_result"
    }
   ],
   "source": [
    "rev.head()"
   ]
  },
  {
   "cell_type": "code",
   "execution_count": 7,
   "id": "484169a8",
   "metadata": {},
   "outputs": [
    {
     "data": {
      "text/plain": [
       "3191"
      ]
     },
     "execution_count": 7,
     "metadata": {},
     "output_type": "execute_result"
    }
   ],
   "source": [
    "rev.listing_id.nunique()"
   ]
  },
  {
   "cell_type": "code",
   "execution_count": 8,
   "id": "244ffcf9",
   "metadata": {},
   "outputs": [
    {
     "data": {
      "text/plain": [
       "(84849, 6)"
      ]
     },
     "execution_count": 8,
     "metadata": {},
     "output_type": "execute_result"
    }
   ],
   "source": [
    "rev.shape"
   ]
  },
  {
   "cell_type": "markdown",
   "id": "26fb904b",
   "metadata": {},
   "source": [
    "# **Calendar Data Preprocessing**"
   ]
  },
  {
   "cell_type": "code",
   "execution_count": 9,
   "id": "b0fbab5c",
   "metadata": {},
   "outputs": [
    {
     "data": {
      "text/html": [
       "<div>\n",
       "<style scoped>\n",
       "    .dataframe tbody tr th:only-of-type {\n",
       "        vertical-align: middle;\n",
       "    }\n",
       "\n",
       "    .dataframe tbody tr th {\n",
       "        vertical-align: top;\n",
       "    }\n",
       "\n",
       "    .dataframe thead th {\n",
       "        text-align: right;\n",
       "    }\n",
       "</style>\n",
       "<table border=\"1\" class=\"dataframe\">\n",
       "  <thead>\n",
       "    <tr style=\"text-align: right;\">\n",
       "      <th></th>\n",
       "      <th>listing_id</th>\n",
       "    </tr>\n",
       "  </thead>\n",
       "  <tbody>\n",
       "    <tr>\n",
       "      <th>count</th>\n",
       "      <td>1.393570e+06</td>\n",
       "    </tr>\n",
       "    <tr>\n",
       "      <th>mean</th>\n",
       "      <td>5.550111e+06</td>\n",
       "    </tr>\n",
       "    <tr>\n",
       "      <th>std</th>\n",
       "      <td>2.962274e+06</td>\n",
       "    </tr>\n",
       "    <tr>\n",
       "      <th>min</th>\n",
       "      <td>3.335000e+03</td>\n",
       "    </tr>\n",
       "    <tr>\n",
       "      <th>25%</th>\n",
       "      <td>3.258213e+06</td>\n",
       "    </tr>\n",
       "    <tr>\n",
       "      <th>50%</th>\n",
       "      <td>6.118244e+06</td>\n",
       "    </tr>\n",
       "    <tr>\n",
       "      <th>75%</th>\n",
       "      <td>8.035212e+06</td>\n",
       "    </tr>\n",
       "    <tr>\n",
       "      <th>max</th>\n",
       "      <td>1.034016e+07</td>\n",
       "    </tr>\n",
       "  </tbody>\n",
       "</table>\n",
       "</div>"
      ],
      "text/plain": [
       "         listing_id\n",
       "count  1.393570e+06\n",
       "mean   5.550111e+06\n",
       "std    2.962274e+06\n",
       "min    3.335000e+03\n",
       "25%    3.258213e+06\n",
       "50%    6.118244e+06\n",
       "75%    8.035212e+06\n",
       "max    1.034016e+07"
      ]
     },
     "execution_count": 9,
     "metadata": {},
     "output_type": "execute_result"
    }
   ],
   "source": [
    "cal.describe()"
   ]
  },
  {
   "cell_type": "code",
   "execution_count": 10,
   "id": "1b8b1739",
   "metadata": {},
   "outputs": [
    {
     "name": "stdout",
     "output_type": "stream",
     "text": [
      "<class 'pandas.core.frame.DataFrame'>\n",
      "RangeIndex: 1393570 entries, 0 to 1393569\n",
      "Data columns (total 4 columns):\n",
      " #   Column      Non-Null Count    Dtype \n",
      "---  ------      --------------    ----- \n",
      " 0   listing_id  1393570 non-null  int64 \n",
      " 1   date        1393570 non-null  object\n",
      " 2   available   1393570 non-null  object\n",
      " 3   price       934542 non-null   object\n",
      "dtypes: int64(1), object(3)\n",
      "memory usage: 42.5+ MB\n"
     ]
    }
   ],
   "source": [
    "cal.info()"
   ]
  },
  {
   "cell_type": "code",
   "execution_count": 11,
   "id": "1922c77a",
   "metadata": {},
   "outputs": [
    {
     "data": {
      "text/html": [
       "<div>\n",
       "<style scoped>\n",
       "    .dataframe tbody tr th:only-of-type {\n",
       "        vertical-align: middle;\n",
       "    }\n",
       "\n",
       "    .dataframe tbody tr th {\n",
       "        vertical-align: top;\n",
       "    }\n",
       "\n",
       "    .dataframe thead th {\n",
       "        text-align: right;\n",
       "    }\n",
       "</style>\n",
       "<table border=\"1\" class=\"dataframe\">\n",
       "  <thead>\n",
       "    <tr style=\"text-align: right;\">\n",
       "      <th></th>\n",
       "      <th>listing_id</th>\n",
       "      <th>date</th>\n",
       "      <th>available</th>\n",
       "      <th>price</th>\n",
       "    </tr>\n",
       "  </thead>\n",
       "  <tbody>\n",
       "    <tr>\n",
       "      <th>0</th>\n",
       "      <td>241032</td>\n",
       "      <td>2016-01-04</td>\n",
       "      <td>t</td>\n",
       "      <td>85.0</td>\n",
       "    </tr>\n",
       "    <tr>\n",
       "      <th>1</th>\n",
       "      <td>241032</td>\n",
       "      <td>2016-01-05</td>\n",
       "      <td>t</td>\n",
       "      <td>85.0</td>\n",
       "    </tr>\n",
       "    <tr>\n",
       "      <th>9</th>\n",
       "      <td>241032</td>\n",
       "      <td>2016-01-13</td>\n",
       "      <td>t</td>\n",
       "      <td>85.0</td>\n",
       "    </tr>\n",
       "    <tr>\n",
       "      <th>10</th>\n",
       "      <td>241032</td>\n",
       "      <td>2016-01-14</td>\n",
       "      <td>t</td>\n",
       "      <td>85.0</td>\n",
       "    </tr>\n",
       "    <tr>\n",
       "      <th>14</th>\n",
       "      <td>241032</td>\n",
       "      <td>2016-01-18</td>\n",
       "      <td>t</td>\n",
       "      <td>85.0</td>\n",
       "    </tr>\n",
       "  </tbody>\n",
       "</table>\n",
       "</div>"
      ],
      "text/plain": [
       "    listing_id        date available  price\n",
       "0       241032  2016-01-04         t   85.0\n",
       "1       241032  2016-01-05         t   85.0\n",
       "9       241032  2016-01-13         t   85.0\n",
       "10      241032  2016-01-14         t   85.0\n",
       "14      241032  2016-01-18         t   85.0"
      ]
     },
     "execution_count": 11,
     "metadata": {},
     "output_type": "execute_result"
    }
   ],
   "source": [
    "cal.dropna(inplace=True)\n",
    "cal['price'] = cal['price'].str.replace('[$,]', '', regex=True).astype(float)\n",
    "cal.head()"
   ]
  },
  {
   "cell_type": "code",
   "execution_count": 12,
   "id": "c8a119ff",
   "metadata": {},
   "outputs": [
    {
     "data": {
      "text/html": [
       "<div>\n",
       "<style scoped>\n",
       "    .dataframe tbody tr th:only-of-type {\n",
       "        vertical-align: middle;\n",
       "    }\n",
       "\n",
       "    .dataframe tbody tr th {\n",
       "        vertical-align: top;\n",
       "    }\n",
       "\n",
       "    .dataframe thead th {\n",
       "        text-align: right;\n",
       "    }\n",
       "</style>\n",
       "<table border=\"1\" class=\"dataframe\">\n",
       "  <thead>\n",
       "    <tr style=\"text-align: right;\">\n",
       "      <th></th>\n",
       "      <th>listing_id</th>\n",
       "      <th>date</th>\n",
       "      <th>available</th>\n",
       "      <th>price</th>\n",
       "    </tr>\n",
       "  </thead>\n",
       "  <tbody>\n",
       "    <tr>\n",
       "      <th>0</th>\n",
       "      <td>241032</td>\n",
       "      <td>2016-01-04</td>\n",
       "      <td>t</td>\n",
       "      <td>85.0</td>\n",
       "    </tr>\n",
       "    <tr>\n",
       "      <th>1</th>\n",
       "      <td>241032</td>\n",
       "      <td>2016-01-05</td>\n",
       "      <td>t</td>\n",
       "      <td>85.0</td>\n",
       "    </tr>\n",
       "    <tr>\n",
       "      <th>9</th>\n",
       "      <td>241032</td>\n",
       "      <td>2016-01-13</td>\n",
       "      <td>t</td>\n",
       "      <td>85.0</td>\n",
       "    </tr>\n",
       "    <tr>\n",
       "      <th>10</th>\n",
       "      <td>241032</td>\n",
       "      <td>2016-01-14</td>\n",
       "      <td>t</td>\n",
       "      <td>85.0</td>\n",
       "    </tr>\n",
       "    <tr>\n",
       "      <th>14</th>\n",
       "      <td>241032</td>\n",
       "      <td>2016-01-18</td>\n",
       "      <td>t</td>\n",
       "      <td>85.0</td>\n",
       "    </tr>\n",
       "  </tbody>\n",
       "</table>\n",
       "</div>"
      ],
      "text/plain": [
       "    listing_id       date available  price\n",
       "0       241032 2016-01-04         t   85.0\n",
       "1       241032 2016-01-05         t   85.0\n",
       "9       241032 2016-01-13         t   85.0\n",
       "10      241032 2016-01-14         t   85.0\n",
       "14      241032 2016-01-18         t   85.0"
      ]
     },
     "execution_count": 12,
     "metadata": {},
     "output_type": "execute_result"
    }
   ],
   "source": [
    "cal.date = pd.to_datetime(cal.date)\n",
    "cal.head()"
   ]
  },
  {
   "cell_type": "code",
   "execution_count": 13,
   "id": "a7e1026b",
   "metadata": {},
   "outputs": [
    {
     "name": "stdout",
     "output_type": "stream",
     "text": [
      "<class 'pandas.core.frame.DataFrame'>\n",
      "Int64Index: 934542 entries, 0 to 1393213\n",
      "Data columns (total 4 columns):\n",
      " #   Column      Non-Null Count   Dtype         \n",
      "---  ------      --------------   -----         \n",
      " 0   listing_id  934542 non-null  int64         \n",
      " 1   date        934542 non-null  datetime64[ns]\n",
      " 2   available   934542 non-null  object        \n",
      " 3   price       934542 non-null  float64       \n",
      "dtypes: datetime64[ns](1), float64(1), int64(1), object(1)\n",
      "memory usage: 35.6+ MB\n"
     ]
    }
   ],
   "source": [
    "cal.info()"
   ]
  },
  {
   "cell_type": "code",
   "execution_count": 14,
   "id": "428fa2e4",
   "metadata": {},
   "outputs": [
    {
     "data": {
      "text/plain": [
       "array(['t'], dtype=object)"
      ]
     },
     "execution_count": 14,
     "metadata": {},
     "output_type": "execute_result"
    }
   ],
   "source": [
    "cal.available.unique()"
   ]
  },
  {
   "cell_type": "code",
   "execution_count": 15,
   "id": "6b0d5cf5",
   "metadata": {},
   "outputs": [
    {
     "data": {
      "text/html": [
       "<div>\n",
       "<style scoped>\n",
       "    .dataframe tbody tr th:only-of-type {\n",
       "        vertical-align: middle;\n",
       "    }\n",
       "\n",
       "    .dataframe tbody tr th {\n",
       "        vertical-align: top;\n",
       "    }\n",
       "\n",
       "    .dataframe thead th {\n",
       "        text-align: right;\n",
       "    }\n",
       "</style>\n",
       "<table border=\"1\" class=\"dataframe\">\n",
       "  <thead>\n",
       "    <tr style=\"text-align: right;\">\n",
       "      <th></th>\n",
       "      <th>listing_id</th>\n",
       "      <th>date</th>\n",
       "      <th>price</th>\n",
       "    </tr>\n",
       "  </thead>\n",
       "  <tbody>\n",
       "    <tr>\n",
       "      <th>0</th>\n",
       "      <td>241032</td>\n",
       "      <td>2016-01-04</td>\n",
       "      <td>85.0</td>\n",
       "    </tr>\n",
       "    <tr>\n",
       "      <th>1</th>\n",
       "      <td>241032</td>\n",
       "      <td>2016-01-05</td>\n",
       "      <td>85.0</td>\n",
       "    </tr>\n",
       "    <tr>\n",
       "      <th>9</th>\n",
       "      <td>241032</td>\n",
       "      <td>2016-01-13</td>\n",
       "      <td>85.0</td>\n",
       "    </tr>\n",
       "  </tbody>\n",
       "</table>\n",
       "</div>"
      ],
      "text/plain": [
       "   listing_id       date  price\n",
       "0      241032 2016-01-04   85.0\n",
       "1      241032 2016-01-05   85.0\n",
       "9      241032 2016-01-13   85.0"
      ]
     },
     "execution_count": 15,
     "metadata": {},
     "output_type": "execute_result"
    }
   ],
   "source": [
    "cal.drop(columns = ['available'], axis = 1, inplace = True)\n",
    "cal.head(3)"
   ]
  },
  {
   "cell_type": "code",
   "execution_count": 16,
   "id": "1735df87",
   "metadata": {},
   "outputs": [
    {
     "data": {
      "text/html": [
       "<div>\n",
       "<style scoped>\n",
       "    .dataframe tbody tr th:only-of-type {\n",
       "        vertical-align: middle;\n",
       "    }\n",
       "\n",
       "    .dataframe tbody tr th {\n",
       "        vertical-align: top;\n",
       "    }\n",
       "\n",
       "    .dataframe thead th {\n",
       "        text-align: right;\n",
       "    }\n",
       "</style>\n",
       "<table border=\"1\" class=\"dataframe\">\n",
       "  <thead>\n",
       "    <tr style=\"text-align: right;\">\n",
       "      <th></th>\n",
       "      <th>listing_id</th>\n",
       "      <th>date</th>\n",
       "      <th>price</th>\n",
       "      <th>month</th>\n",
       "      <th>year</th>\n",
       "    </tr>\n",
       "  </thead>\n",
       "  <tbody>\n",
       "    <tr>\n",
       "      <th>0</th>\n",
       "      <td>241032</td>\n",
       "      <td>2016-01-04</td>\n",
       "      <td>85.0</td>\n",
       "      <td>1</td>\n",
       "      <td>2016</td>\n",
       "    </tr>\n",
       "    <tr>\n",
       "      <th>1</th>\n",
       "      <td>241032</td>\n",
       "      <td>2016-01-05</td>\n",
       "      <td>85.0</td>\n",
       "      <td>1</td>\n",
       "      <td>2016</td>\n",
       "    </tr>\n",
       "    <tr>\n",
       "      <th>9</th>\n",
       "      <td>241032</td>\n",
       "      <td>2016-01-13</td>\n",
       "      <td>85.0</td>\n",
       "      <td>1</td>\n",
       "      <td>2016</td>\n",
       "    </tr>\n",
       "  </tbody>\n",
       "</table>\n",
       "</div>"
      ],
      "text/plain": [
       "   listing_id       date  price  month  year\n",
       "0      241032 2016-01-04   85.0      1  2016\n",
       "1      241032 2016-01-05   85.0      1  2016\n",
       "9      241032 2016-01-13   85.0      1  2016"
      ]
     },
     "execution_count": 16,
     "metadata": {},
     "output_type": "execute_result"
    }
   ],
   "source": [
    "cal['month'] = cal.date.dt.month\n",
    "cal['year'] = cal.date.dt.year\n",
    "cal.head(3)"
   ]
  },
  {
   "cell_type": "code",
   "execution_count": 17,
   "id": "7d670139",
   "metadata": {},
   "outputs": [
    {
     "data": {
      "text/html": [
       "<div>\n",
       "<style scoped>\n",
       "    .dataframe tbody tr th:only-of-type {\n",
       "        vertical-align: middle;\n",
       "    }\n",
       "\n",
       "    .dataframe tbody tr th {\n",
       "        vertical-align: top;\n",
       "    }\n",
       "\n",
       "    .dataframe thead th {\n",
       "        text-align: right;\n",
       "    }\n",
       "</style>\n",
       "<table border=\"1\" class=\"dataframe\">\n",
       "  <thead>\n",
       "    <tr style=\"text-align: right;\">\n",
       "      <th></th>\n",
       "      <th>price</th>\n",
       "      <th>month</th>\n",
       "    </tr>\n",
       "  </thead>\n",
       "  <tbody>\n",
       "    <tr>\n",
       "      <th>0</th>\n",
       "      <td>122.912176</td>\n",
       "      <td>1</td>\n",
       "    </tr>\n",
       "    <tr>\n",
       "      <th>1</th>\n",
       "      <td>124.293927</td>\n",
       "      <td>2</td>\n",
       "    </tr>\n",
       "    <tr>\n",
       "      <th>2</th>\n",
       "      <td>128.644488</td>\n",
       "      <td>3</td>\n",
       "    </tr>\n",
       "    <tr>\n",
       "      <th>3</th>\n",
       "      <td>135.097005</td>\n",
       "      <td>4</td>\n",
       "    </tr>\n",
       "    <tr>\n",
       "      <th>4</th>\n",
       "      <td>139.538183</td>\n",
       "      <td>5</td>\n",
       "    </tr>\n",
       "    <tr>\n",
       "      <th>5</th>\n",
       "      <td>147.473137</td>\n",
       "      <td>6</td>\n",
       "    </tr>\n",
       "    <tr>\n",
       "      <th>6</th>\n",
       "      <td>152.094150</td>\n",
       "      <td>7</td>\n",
       "    </tr>\n",
       "    <tr>\n",
       "      <th>7</th>\n",
       "      <td>150.656594</td>\n",
       "      <td>8</td>\n",
       "    </tr>\n",
       "    <tr>\n",
       "      <th>8</th>\n",
       "      <td>143.255949</td>\n",
       "      <td>9</td>\n",
       "    </tr>\n",
       "    <tr>\n",
       "      <th>9</th>\n",
       "      <td>137.031939</td>\n",
       "      <td>10</td>\n",
       "    </tr>\n",
       "    <tr>\n",
       "      <th>10</th>\n",
       "      <td>135.688738</td>\n",
       "      <td>11</td>\n",
       "    </tr>\n",
       "    <tr>\n",
       "      <th>11</th>\n",
       "      <td>137.251835</td>\n",
       "      <td>12</td>\n",
       "    </tr>\n",
       "  </tbody>\n",
       "</table>\n",
       "</div>"
      ],
      "text/plain": [
       "         price  month\n",
       "0   122.912176      1\n",
       "1   124.293927      2\n",
       "2   128.644488      3\n",
       "3   135.097005      4\n",
       "4   139.538183      5\n",
       "5   147.473137      6\n",
       "6   152.094150      7\n",
       "7   150.656594      8\n",
       "8   143.255949      9\n",
       "9   137.031939     10\n",
       "10  135.688738     11\n",
       "11  137.251835     12"
      ]
     },
     "execution_count": 17,
     "metadata": {},
     "output_type": "execute_result"
    }
   ],
   "source": [
    "avg_price_per_month = cal.groupby('month')['price'].mean().to_frame()\n",
    "avg_price_per_month['month'] = avg_price_per_month.index\n",
    "avg_price_per_month.index = np.arange(avg_price_per_month.shape[0])\n",
    "avg_price_per_month"
   ]
  },
  {
   "cell_type": "markdown",
   "id": "f8d63e92",
   "metadata": {},
   "source": [
    "# **Calendar EDA**"
   ]
  },
  {
   "cell_type": "markdown",
   "id": "116eefc8",
   "metadata": {},
   "source": [
    "## Average Price per month"
   ]
  },
  {
   "cell_type": "code",
   "execution_count": 18,
   "id": "44006060",
   "metadata": {},
   "outputs": [
    {
     "data": {
      "image/png": "[encoded data removed]",
      "text/plain": [
       "<Figure size 1440x720 with 1 Axes>"
      ]
     },
     "metadata": {
      "needs_background": "light"
     },
     "output_type": "display_data"
    }
   ],
   "source": [
    "plt.figure(figsize = (20, 10))\n",
    "sns.barplot(x = avg_price_per_month['month'], y = avg_price_per_month.price);\n",
    "plt.title('Average Price per month', fontsize = 22)\n",
    "plt.xlabel('Month', fontsize = 18)\n",
    "plt.ylabel('Price', fontsize = 18)\n",
    "plt.show()"
   ]
  },
  {
   "cell_type": "code",
   "execution_count": 19,
   "id": "5feacb53",
   "metadata": {},
   "outputs": [
    {
     "data": {
      "text/html": [
       "<div>\n",
       "<style scoped>\n",
       "    .dataframe tbody tr th:only-of-type {\n",
       "        vertical-align: middle;\n",
       "    }\n",
       "\n",
       "    .dataframe tbody tr th {\n",
       "        vertical-align: top;\n",
       "    }\n",
       "\n",
       "    .dataframe thead th {\n",
       "        text-align: right;\n",
       "    }\n",
       "</style>\n",
       "<table border=\"1\" class=\"dataframe\">\n",
       "  <thead>\n",
       "    <tr style=\"text-align: right;\">\n",
       "      <th></th>\n",
       "      <th>price</th>\n",
       "      <th>month</th>\n",
       "    </tr>\n",
       "  </thead>\n",
       "  <tbody>\n",
       "    <tr>\n",
       "      <th>0</th>\n",
       "      <td>64937</td>\n",
       "      <td>1</td>\n",
       "    </tr>\n",
       "    <tr>\n",
       "      <th>1</th>\n",
       "      <td>73321</td>\n",
       "      <td>2</td>\n",
       "    </tr>\n",
       "    <tr>\n",
       "      <th>2</th>\n",
       "      <td>83938</td>\n",
       "      <td>3</td>\n",
       "    </tr>\n",
       "    <tr>\n",
       "      <th>3</th>\n",
       "      <td>76037</td>\n",
       "      <td>4</td>\n",
       "    </tr>\n",
       "    <tr>\n",
       "      <th>4</th>\n",
       "      <td>79971</td>\n",
       "      <td>5</td>\n",
       "    </tr>\n",
       "    <tr>\n",
       "      <th>5</th>\n",
       "      <td>77244</td>\n",
       "      <td>6</td>\n",
       "    </tr>\n",
       "    <tr>\n",
       "      <th>6</th>\n",
       "      <td>74222</td>\n",
       "      <td>7</td>\n",
       "    </tr>\n",
       "    <tr>\n",
       "      <th>7</th>\n",
       "      <td>76347</td>\n",
       "      <td>8</td>\n",
       "    </tr>\n",
       "    <tr>\n",
       "      <th>8</th>\n",
       "      <td>77246</td>\n",
       "      <td>9</td>\n",
       "    </tr>\n",
       "    <tr>\n",
       "      <th>9</th>\n",
       "      <td>82438</td>\n",
       "      <td>10</td>\n",
       "    </tr>\n",
       "    <tr>\n",
       "      <th>10</th>\n",
       "      <td>81780</td>\n",
       "      <td>11</td>\n",
       "    </tr>\n",
       "    <tr>\n",
       "      <th>11</th>\n",
       "      <td>87061</td>\n",
       "      <td>12</td>\n",
       "    </tr>\n",
       "  </tbody>\n",
       "</table>\n",
       "</div>"
      ],
      "text/plain": [
       "    price  month\n",
       "0   64937      1\n",
       "1   73321      2\n",
       "2   83938      3\n",
       "3   76037      4\n",
       "4   79971      5\n",
       "5   77244      6\n",
       "6   74222      7\n",
       "7   76347      8\n",
       "8   77246      9\n",
       "9   82438     10\n",
       "10  81780     11\n",
       "11  87061     12"
      ]
     },
     "execution_count": 19,
     "metadata": {},
     "output_type": "execute_result"
    }
   ],
   "source": [
    "freq_per_month = cal.groupby('month')['price'].count().to_frame()\n",
    "freq_per_month['month'] = freq_per_month.index\n",
    "freq_per_month.index = np.arange(freq_per_month.shape[0])\n",
    "freq_per_month"
   ]
  },
  {
   "cell_type": "markdown",
   "id": "3ab8e174",
   "metadata": {},
   "source": [
    "## Number of reservations per month"
   ]
  },
  {
   "cell_type": "code",
   "execution_count": 20,
   "id": "d46278dd",
   "metadata": {},
   "outputs": [
    {
     "data": {
      "image/png": "[encoded data removed]",
      "text/plain": [
       "<Figure size 1440x720 with 1 Axes>"
      ]
     },
     "metadata": {
      "needs_background": "light"
     },
     "output_type": "display_data"
    }
   ],
   "source": [
    "plt.figure(figsize = (20, 10))\n",
    "sns.barplot(x = freq_per_month['month'], y = freq_per_month.price);\n",
    "plt.title('Number of reservations per month', fontsize = 22)\n",
    "plt.xlabel('Month', fontsize = 18)\n",
    "plt.ylabel('Number of reservations', fontsize = 18)\n",
    "plt.show()"
   ]
  },
  {
   "cell_type": "markdown",
   "id": "d825d196",
   "metadata": {},
   "source": [
    "# **Listings Data preprocessing**"
   ]
  },
  {
   "cell_type": "code",
   "execution_count": 21,
   "id": "eb5b9c85",
   "metadata": {},
   "outputs": [
    {
     "data": {
      "text/plain": [
       "(3818, 92)"
      ]
     },
     "execution_count": 21,
     "metadata": {},
     "output_type": "execute_result"
    }
   ],
   "source": [
    "li.shape"
   ]
  },
  {
   "cell_type": "code",
   "execution_count": 22,
   "id": "33a4c865",
   "metadata": {},
   "outputs": [
    {
     "name": "stdout",
     "output_type": "stream",
     "text": [
      "<class 'pandas.core.frame.DataFrame'>\n",
      "RangeIndex: 3818 entries, 0 to 3817\n",
      "Data columns (total 92 columns):\n",
      " #   Column                            Non-Null Count  Dtype  \n",
      "---  ------                            --------------  -----  \n",
      " 0   id                                3818 non-null   int64  \n",
      " 1   listing_url                       3818 non-null   object \n",
      " 2   scrape_id                         3818 non-null   int64  \n",
      " 3   last_scraped                      3818 non-null   object \n",
      " 4   name                              3818 non-null   object \n",
      " 5   summary                           3641 non-null   object \n",
      " 6   space                             3249 non-null   object \n",
      " 7   description                       3818 non-null   object \n",
      " 8   experiences_offered               3818 non-null   object \n",
      " 9   neighborhood_overview             2786 non-null   object \n",
      " 10  notes                             2212 non-null   object \n",
      " 11  transit                           2884 non-null   object \n",
      " 12  thumbnail_url                     3498 non-null   object \n",
      " 13  medium_url                        3498 non-null   object \n",
      " 14  picture_url                       3818 non-null   object \n",
      " 15  xl_picture_url                    3498 non-null   object \n",
      " 16  host_id                           3818 non-null   int64  \n",
      " 17  host_url                          3818 non-null   object \n",
      " 18  host_name                         3816 non-null   object \n",
      " 19  host_since                        3816 non-null   object \n",
      " 20  host_location                     3810 non-null   object \n",
      " 21  host_about                        2959 non-null   object \n",
      " 22  host_response_time                3295 non-null   object \n",
      " 23  host_response_rate                3295 non-null   object \n",
      " 24  host_acceptance_rate              3045 non-null   object \n",
      " 25  host_is_superhost                 3816 non-null   object \n",
      " 26  host_thumbnail_url                3816 non-null   object \n",
      " 27  host_picture_url                  3816 non-null   object \n",
      " 28  host_neighbourhood                3518 non-null   object \n",
      " 29  host_listings_count               3816 non-null   float64\n",
      " 30  host_total_listings_count         3816 non-null   float64\n",
      " 31  host_verifications                3818 non-null   object \n",
      " 32  host_has_profile_pic              3816 non-null   object \n",
      " 33  host_identity_verified            3816 non-null   object \n",
      " 34  street                            3818 non-null   object \n",
      " 35  neighbourhood                     3402 non-null   object \n",
      " 36  neighbourhood_cleansed            3818 non-null   object \n",
      " 37  neighbourhood_group_cleansed      3818 non-null   object \n",
      " 38  city                              3818 non-null   object \n",
      " 39  state                             3818 non-null   object \n",
      " 40  zipcode                           3811 non-null   object \n",
      " 41  market                            3818 non-null   object \n",
      " 42  smart_location                    3818 non-null   object \n",
      " 43  country_code                      3818 non-null   object \n",
      " 44  country                           3818 non-null   object \n",
      " 45  latitude                          3818 non-null   float64\n",
      " 46  longitude                         3818 non-null   float64\n",
      " 47  is_location_exact                 3818 non-null   object \n",
      " 48  property_type                     3817 non-null   object \n",
      " 49  room_type                         3818 non-null   object \n",
      " 50  accommodates                      3818 non-null   int64  \n",
      " 51  bathrooms                         3802 non-null   float64\n",
      " 52  bedrooms                          3812 non-null   float64\n",
      " 53  beds                              3817 non-null   float64\n",
      " 54  bed_type                          3818 non-null   object \n",
      " 55  amenities                         3818 non-null   object \n",
      " 56  square_feet                       97 non-null     float64\n",
      " 57  price                             3818 non-null   object \n",
      " 58  weekly_price                      2009 non-null   object \n",
      " 59  monthly_price                     1517 non-null   object \n",
      " 60  security_deposit                  1866 non-null   object \n",
      " 61  cleaning_fee                      2788 non-null   object \n",
      " 62  guests_included                   3818 non-null   int64  \n",
      " 63  extra_people                      3818 non-null   object \n",
      " 64  minimum_nights                    3818 non-null   int64  \n",
      " 65  maximum_nights                    3818 non-null   int64  \n",
      " 66  calendar_updated                  3818 non-null   object \n",
      " 67  has_availability                  3818 non-null   object \n",
      " 68  availability_30                   3818 non-null   int64  \n",
      " 69  availability_60                   3818 non-null   int64  \n",
      " 70  availability_90                   3818 non-null   int64  \n",
      " 71  availability_365                  3818 non-null   int64  \n",
      " 72  calendar_last_scraped             3818 non-null   object \n",
      " 73  number_of_reviews                 3818 non-null   int64  \n",
      " 74  first_review                      3191 non-null   object \n",
      " 75  last_review                       3191 non-null   object \n",
      " 76  review_scores_rating              3171 non-null   float64\n",
      " 77  review_scores_accuracy            3160 non-null   float64\n",
      " 78  review_scores_cleanliness         3165 non-null   float64\n",
      " 79  review_scores_checkin             3160 non-null   float64\n",
      " 80  review_scores_communication       3167 non-null   float64\n",
      " 81  review_scores_location            3163 non-null   float64\n",
      " 82  review_scores_value               3162 non-null   float64\n",
      " 83  requires_license                  3818 non-null   object \n",
      " 84  license                           0 non-null      float64\n",
      " 85  jurisdiction_names                3818 non-null   object \n",
      " 86  instant_bookable                  3818 non-null   object \n",
      " 87  cancellation_policy               3818 non-null   object \n",
      " 88  require_guest_profile_picture     3818 non-null   object \n",
      " 89  require_guest_phone_verification  3818 non-null   object \n",
      " 90  calculated_host_listings_count    3818 non-null   int64  \n",
      " 91  reviews_per_month                 3191 non-null   float64\n",
      "dtypes: float64(17), int64(13), object(62)\n",
      "memory usage: 2.7+ MB\n"
     ]
    }
   ],
   "source": [
    "li.info()"
   ]
  },
  {
   "cell_type": "code",
   "execution_count": 23,
   "id": "18c1fa77",
   "metadata": {},
   "outputs": [],
   "source": [
    "listings_missing_avg = li.isnull().mean().to_frame() # define dataframe contain missing values average in each column"
   ]
  },
  {
   "cell_type": "code",
   "execution_count": 24,
   "id": "2cfa4527",
   "metadata": {},
   "outputs": [
    {
     "data": {
      "text/html": [
       "<div>\n",
       "<style scoped>\n",
       "    .dataframe tbody tr th:only-of-type {\n",
       "        vertical-align: middle;\n",
       "    }\n",
       "\n",
       "    .dataframe tbody tr th {\n",
       "        vertical-align: top;\n",
       "    }\n",
       "\n",
       "    .dataframe thead th {\n",
       "        text-align: right;\n",
       "    }\n",
       "</style>\n",
       "<table border=\"1\" class=\"dataframe\">\n",
       "  <thead>\n",
       "    <tr style=\"text-align: right;\">\n",
       "      <th></th>\n",
       "      <th>null_avg</th>\n",
       "      <th>column</th>\n",
       "    </tr>\n",
       "  </thead>\n",
       "  <tbody>\n",
       "    <tr>\n",
       "      <th>0</th>\n",
       "      <td>0.0</td>\n",
       "      <td>id</td>\n",
       "    </tr>\n",
       "    <tr>\n",
       "      <th>1</th>\n",
       "      <td>0.0</td>\n",
       "      <td>listing_url</td>\n",
       "    </tr>\n",
       "    <tr>\n",
       "      <th>2</th>\n",
       "      <td>0.0</td>\n",
       "      <td>scrape_id</td>\n",
       "    </tr>\n",
       "    <tr>\n",
       "      <th>3</th>\n",
       "      <td>0.0</td>\n",
       "      <td>last_scraped</td>\n",
       "    </tr>\n",
       "    <tr>\n",
       "      <th>4</th>\n",
       "      <td>0.0</td>\n",
       "      <td>name</td>\n",
       "    </tr>\n",
       "  </tbody>\n",
       "</table>\n",
       "</div>"
      ],
      "text/plain": [
       "   null_avg        column\n",
       "0       0.0            id\n",
       "1       0.0   listing_url\n",
       "2       0.0     scrape_id\n",
       "3       0.0  last_scraped\n",
       "4       0.0          name"
      ]
     },
     "execution_count": 24,
     "metadata": {},
     "output_type": "execute_result"
    }
   ],
   "source": [
    "listings_missing_avg.columns = ['null_avg']\n",
    "listings_missing_avg['column'] = listings_missing_avg.index\n",
    "listings_missing_avg.index = np.arange(listings_missing_avg.shape[0])\n",
    "listings_missing_avg.head()"
   ]
  },
  {
   "cell_type": "code",
   "execution_count": 25,
   "id": "fa7cb950",
   "metadata": {},
   "outputs": [
    {
     "data": {
      "text/html": [
       "<div>\n",
       "<style scoped>\n",
       "    .dataframe tbody tr th:only-of-type {\n",
       "        vertical-align: middle;\n",
       "    }\n",
       "\n",
       "    .dataframe tbody tr th {\n",
       "        vertical-align: top;\n",
       "    }\n",
       "\n",
       "    .dataframe thead th {\n",
       "        text-align: right;\n",
       "    }\n",
       "</style>\n",
       "<table border=\"1\" class=\"dataframe\">\n",
       "  <thead>\n",
       "    <tr style=\"text-align: right;\">\n",
       "      <th></th>\n",
       "      <th>null_avg</th>\n",
       "    </tr>\n",
       "  </thead>\n",
       "  <tbody>\n",
       "    <tr>\n",
       "      <th>count</th>\n",
       "      <td>92.000000</td>\n",
       "    </tr>\n",
       "    <tr>\n",
       "      <th>mean</th>\n",
       "      <td>0.084893</td>\n",
       "    </tr>\n",
       "    <tr>\n",
       "      <th>std</th>\n",
       "      <td>0.181492</td>\n",
       "    </tr>\n",
       "    <tr>\n",
       "      <th>min</th>\n",
       "      <td>0.000000</td>\n",
       "    </tr>\n",
       "    <tr>\n",
       "      <th>25%</th>\n",
       "      <td>0.000000</td>\n",
       "    </tr>\n",
       "    <tr>\n",
       "      <th>50%</th>\n",
       "      <td>0.000000</td>\n",
       "    </tr>\n",
       "    <tr>\n",
       "      <th>75%</th>\n",
       "      <td>0.136983</td>\n",
       "    </tr>\n",
       "    <tr>\n",
       "      <th>max</th>\n",
       "      <td>1.000000</td>\n",
       "    </tr>\n",
       "  </tbody>\n",
       "</table>\n",
       "</div>"
      ],
      "text/plain": [
       "        null_avg\n",
       "count  92.000000\n",
       "mean    0.084893\n",
       "std     0.181492\n",
       "min     0.000000\n",
       "25%     0.000000\n",
       "50%     0.000000\n",
       "75%     0.136983\n",
       "max     1.000000"
      ]
     },
     "execution_count": 25,
     "metadata": {},
     "output_type": "execute_result"
    }
   ],
   "source": [
    "listings_missing_avg.describe()"
   ]
  },
  {
   "cell_type": "markdown",
   "id": "e4d287e8",
   "metadata": {},
   "source": [
    "## Features with null values"
   ]
  },
  {
   "cell_type": "code",
   "execution_count": 26,
   "id": "ec4f1118",
   "metadata": {},
   "outputs": [
    {
     "data": {
      "image/png": "[encoded data removed]",
      "text/plain": [
       "<Figure size 1440x864 with 1 Axes>"
      ]
     },
     "metadata": {
      "needs_background": "light"
     },
     "output_type": "display_data"
    }
   ],
   "source": [
    "features_with_null = listings_missing_avg[listings_missing_avg['null_avg'] > 0.01]\n",
    "plt.figure(figsize = (20, 12 ))\n",
    "sizes = features_with_null['null_avg']\n",
    "labels = features_with_null['column']\n",
    "\n",
    "squarify.plot(sizes=sizes, label=labels, alpha=0.8)\n",
    "\n",
    "plt.axis('off')\n",
    "plt.title('Features with null values', fontsize = 22)\n",
    "\n",
    "\n",
    "plt.show()"
   ]
  },
  {
   "cell_type": "code",
   "execution_count": 27,
   "id": "da29e8d0",
   "metadata": {},
   "outputs": [
    {
     "data": {
      "text/html": [
       "<div>\n",
       "<style scoped>\n",
       "    .dataframe tbody tr th:only-of-type {\n",
       "        vertical-align: middle;\n",
       "    }\n",
       "\n",
       "    .dataframe tbody tr th {\n",
       "        vertical-align: top;\n",
       "    }\n",
       "\n",
       "    .dataframe thead th {\n",
       "        text-align: right;\n",
       "    }\n",
       "</style>\n",
       "<table border=\"1\" class=\"dataframe\">\n",
       "  <thead>\n",
       "    <tr style=\"text-align: right;\">\n",
       "      <th></th>\n",
       "      <th>space</th>\n",
       "      <th>neighborhood_overview</th>\n",
       "      <th>notes</th>\n",
       "      <th>transit</th>\n",
       "      <th>host_about</th>\n",
       "      <th>host_response_time</th>\n",
       "      <th>host_response_rate</th>\n",
       "      <th>host_acceptance_rate</th>\n",
       "      <th>square_feet</th>\n",
       "      <th>weekly_price</th>\n",
       "      <th>...</th>\n",
       "      <th>last_review</th>\n",
       "      <th>review_scores_rating</th>\n",
       "      <th>review_scores_accuracy</th>\n",
       "      <th>review_scores_cleanliness</th>\n",
       "      <th>review_scores_checkin</th>\n",
       "      <th>review_scores_communication</th>\n",
       "      <th>review_scores_location</th>\n",
       "      <th>review_scores_value</th>\n",
       "      <th>license</th>\n",
       "      <th>reviews_per_month</th>\n",
       "    </tr>\n",
       "  </thead>\n",
       "  <tbody>\n",
       "    <tr>\n",
       "      <th>0</th>\n",
       "      <td>Make your self at home in this charming one-be...</td>\n",
       "      <td>NaN</td>\n",
       "      <td>NaN</td>\n",
       "      <td>NaN</td>\n",
       "      <td>I am an artist, interior designer, and run a s...</td>\n",
       "      <td>within a few hours</td>\n",
       "      <td>96%</td>\n",
       "      <td>100%</td>\n",
       "      <td>NaN</td>\n",
       "      <td>NaN</td>\n",
       "      <td>...</td>\n",
       "      <td>2016-01-02</td>\n",
       "      <td>95.0</td>\n",
       "      <td>10.0</td>\n",
       "      <td>10.0</td>\n",
       "      <td>10.0</td>\n",
       "      <td>10.0</td>\n",
       "      <td>9.0</td>\n",
       "      <td>10.0</td>\n",
       "      <td>NaN</td>\n",
       "      <td>4.07</td>\n",
       "    </tr>\n",
       "    <tr>\n",
       "      <th>1</th>\n",
       "      <td>Beautiful, hypoallergenic apartment in an extr...</td>\n",
       "      <td>Queen Anne is a wonderful, truly functional vi...</td>\n",
       "      <td>What's up with the free pillows?  Our home was...</td>\n",
       "      <td>Convenient bus stops are just down the block, ...</td>\n",
       "      <td>Living east coast/left coast/overseas.  Time i...</td>\n",
       "      <td>within an hour</td>\n",
       "      <td>98%</td>\n",
       "      <td>100%</td>\n",
       "      <td>NaN</td>\n",
       "      <td>$1,000.00</td>\n",
       "      <td>...</td>\n",
       "      <td>2015-12-29</td>\n",
       "      <td>96.0</td>\n",
       "      <td>10.0</td>\n",
       "      <td>10.0</td>\n",
       "      <td>10.0</td>\n",
       "      <td>10.0</td>\n",
       "      <td>10.0</td>\n",
       "      <td>10.0</td>\n",
       "      <td>NaN</td>\n",
       "      <td>1.48</td>\n",
       "    </tr>\n",
       "    <tr>\n",
       "      <th>2</th>\n",
       "      <td>Our house is modern, light and fresh with a wa...</td>\n",
       "      <td>Upper Queen Anne is a charming neighborhood fu...</td>\n",
       "      <td>Our house is located just 5 short blocks to To...</td>\n",
       "      <td>A bus stop is just 2 blocks away.   Easy bus a...</td>\n",
       "      <td>i love living in Seattle.  i grew up in the mi...</td>\n",
       "      <td>within a few hours</td>\n",
       "      <td>67%</td>\n",
       "      <td>100%</td>\n",
       "      <td>NaN</td>\n",
       "      <td>NaN</td>\n",
       "      <td>...</td>\n",
       "      <td>2015-09-03</td>\n",
       "      <td>97.0</td>\n",
       "      <td>10.0</td>\n",
       "      <td>10.0</td>\n",
       "      <td>10.0</td>\n",
       "      <td>10.0</td>\n",
       "      <td>10.0</td>\n",
       "      <td>10.0</td>\n",
       "      <td>NaN</td>\n",
       "      <td>1.15</td>\n",
       "    </tr>\n",
       "  </tbody>\n",
       "</table>\n",
       "<p>3 rows × 24 columns</p>\n",
       "</div>"
      ],
      "text/plain": [
       "                                               space  \\\n",
       "0  Make your self at home in this charming one-be...   \n",
       "1  Beautiful, hypoallergenic apartment in an extr...   \n",
       "2  Our house is modern, light and fresh with a wa...   \n",
       "\n",
       "                               neighborhood_overview  \\\n",
       "0                                                NaN   \n",
       "1  Queen Anne is a wonderful, truly functional vi...   \n",
       "2  Upper Queen Anne is a charming neighborhood fu...   \n",
       "\n",
       "                                               notes  \\\n",
       "0                                                NaN   \n",
       "1  What's up with the free pillows?  Our home was...   \n",
       "2  Our house is located just 5 short blocks to To...   \n",
       "\n",
       "                                             transit  \\\n",
       "0                                                NaN   \n",
       "1  Convenient bus stops are just down the block, ...   \n",
       "2  A bus stop is just 2 blocks away.   Easy bus a...   \n",
       "\n",
       "                                          host_about  host_response_time  \\\n",
       "0  I am an artist, interior designer, and run a s...  within a few hours   \n",
       "1  Living east coast/left coast/overseas.  Time i...      within an hour   \n",
       "2  i love living in Seattle.  i grew up in the mi...  within a few hours   \n",
       "\n",
       "  host_response_rate host_acceptance_rate  square_feet weekly_price  ...  \\\n",
       "0                96%                 100%          NaN          NaN  ...   \n",
       "1                98%                 100%          NaN    $1,000.00  ...   \n",
       "2                67%                 100%          NaN          NaN  ...   \n",
       "\n",
       "  last_review review_scores_rating review_scores_accuracy  \\\n",
       "0  2016-01-02                 95.0                   10.0   \n",
       "1  2015-12-29                 96.0                   10.0   \n",
       "2  2015-09-03                 97.0                   10.0   \n",
       "\n",
       "  review_scores_cleanliness review_scores_checkin  \\\n",
       "0                      10.0                  10.0   \n",
       "1                      10.0                  10.0   \n",
       "2                      10.0                  10.0   \n",
       "\n",
       "   review_scores_communication  review_scores_location  review_scores_value  \\\n",
       "0                         10.0                     9.0                 10.0   \n",
       "1                         10.0                    10.0                 10.0   \n",
       "2                         10.0                    10.0                 10.0   \n",
       "\n",
       "   license  reviews_per_month  \n",
       "0      NaN               4.07  \n",
       "1      NaN               1.48  \n",
       "2      NaN               1.15  \n",
       "\n",
       "[3 rows x 24 columns]"
      ]
     },
     "execution_count": 27,
     "metadata": {},
     "output_type": "execute_result"
    }
   ],
   "source": [
    "li[list(listings_missing_avg[listings_missing_avg['null_avg'] > 0.13]['column'])].head(3)"
   ]
  },
  {
   "cell_type": "code",
   "execution_count": 28,
   "id": "9821e614",
   "metadata": {},
   "outputs": [],
   "source": [
    "li.drop(\n",
    "columns=[\n",
    "    'space',\n",
    "    'neighborhood_overview',\n",
    "    'notes',\n",
    "    'transit',\n",
    "    'host_about',\n",
    "    'square_feet',\n",
    "    'license'\n",
    "],axis = 1, inplace=True\n",
    ")"
   ]
  },
  {
   "cell_type": "code",
   "execution_count": 29,
   "id": "e26aa62d",
   "metadata": {},
   "outputs": [
    {
     "data": {
      "text/plain": [
       "array(['within a few hours', 'within an hour', nan, 'within a day',\n",
       "       'a few days or more'], dtype=object)"
      ]
     },
     "execution_count": 29,
     "metadata": {},
     "output_type": "execute_result"
    }
   ],
   "source": [
    "li.host_response_time.unique()"
   ]
  },
  {
   "cell_type": "code",
   "execution_count": 30,
   "id": "c2530811",
   "metadata": {},
   "outputs": [
    {
     "data": {
      "text/html": [
       "<div>\n",
       "<style scoped>\n",
       "    .dataframe tbody tr th:only-of-type {\n",
       "        vertical-align: middle;\n",
       "    }\n",
       "\n",
       "    .dataframe tbody tr th {\n",
       "        vertical-align: top;\n",
       "    }\n",
       "\n",
       "    .dataframe thead th {\n",
       "        text-align: right;\n",
       "    }\n",
       "</style>\n",
       "<table border=\"1\" class=\"dataframe\">\n",
       "  <thead>\n",
       "    <tr style=\"text-align: right;\">\n",
       "      <th></th>\n",
       "      <th>host_response_time</th>\n",
       "    </tr>\n",
       "  </thead>\n",
       "  <tbody>\n",
       "    <tr>\n",
       "      <th>0</th>\n",
       "      <td>1.0</td>\n",
       "    </tr>\n",
       "    <tr>\n",
       "      <th>1</th>\n",
       "      <td>0.0</td>\n",
       "    </tr>\n",
       "    <tr>\n",
       "      <th>2</th>\n",
       "      <td>1.0</td>\n",
       "    </tr>\n",
       "  </tbody>\n",
       "</table>\n",
       "</div>"
      ],
      "text/plain": [
       "   host_response_time\n",
       "0                 1.0\n",
       "1                 0.0\n",
       "2                 1.0"
      ]
     },
     "execution_count": 30,
     "metadata": {},
     "output_type": "execute_result"
    }
   ],
   "source": [
    "li.host_response_time = li.host_response_time.map({'within an hour':0,\n",
    "                                                   'within a few hours':1,\n",
    "                                                   'within a day':2,\n",
    "                                                   'a few days or more':3}\n",
    "                                                 )\n",
    "li[['host_response_time']].head(3)"
   ]
  },
  {
   "cell_type": "code",
   "execution_count": 31,
   "id": "883949c5",
   "metadata": {},
   "outputs": [
    {
     "data": {
      "text/plain": [
       "array([1., 0., 4., 2., 3.])"
      ]
     },
     "execution_count": 31,
     "metadata": {},
     "output_type": "execute_result"
    }
   ],
   "source": [
    "li.host_response_time.fillna(4,inplace=True)\n",
    "li.host_response_time.unique()"
   ]
  },
  {
   "cell_type": "code",
   "execution_count": 32,
   "id": "babc3df4",
   "metadata": {},
   "outputs": [],
   "source": [
    "li.host_response_time = li.host_response_time.astype(int)"
   ]
  },
  {
   "cell_type": "code",
   "execution_count": 33,
   "id": "b3e7a095",
   "metadata": {},
   "outputs": [
    {
     "name": "stdout",
     "output_type": "stream",
     "text": [
      "<class 'pandas.core.frame.DataFrame'>\n",
      "RangeIndex: 3818 entries, 0 to 3817\n",
      "Data columns (total 4 columns):\n",
      " #   Column                Non-Null Count  Dtype \n",
      "---  ------                --------------  ----- \n",
      " 0   last_review           3191 non-null   object\n",
      " 1   weekly_price          2009 non-null   object\n",
      " 2   host_acceptance_rate  3045 non-null   object\n",
      " 3   host_response_rate    3295 non-null   object\n",
      "dtypes: object(4)\n",
      "memory usage: 119.4+ KB\n"
     ]
    }
   ],
   "source": [
    "li[['last_review','weekly_price','host_acceptance_rate','host_response_rate']].info()"
   ]
  },
  {
   "cell_type": "code",
   "execution_count": 34,
   "id": "c4dd6b44",
   "metadata": {},
   "outputs": [],
   "source": [
    "# convert percentage columns to numerical values "
   ]
  },
  {
   "cell_type": "code",
   "execution_count": 35,
   "id": "40200e64",
   "metadata": {},
   "outputs": [
    {
     "data": {
      "text/plain": [
       "0    1.0\n",
       "1    1.0\n",
       "2    1.0\n",
       "3    NaN\n",
       "4    NaN\n",
       "Name: host_acceptance_rate, dtype: float64"
      ]
     },
     "execution_count": 35,
     "metadata": {},
     "output_type": "execute_result"
    }
   ],
   "source": [
    "li.host_acceptance_rate = li.host_acceptance_rate.astype(str)\n",
    "li.host_acceptance_rate = li.host_acceptance_rate.apply(lambda x:x.replace('%', ''))\n",
    "li.host_acceptance_rate = li.host_acceptance_rate.astype(float)\n",
    "li.host_acceptance_rate = li.host_acceptance_rate / 100 \n",
    "li.host_acceptance_rate.head()"
   ]
  },
  {
   "cell_type": "code",
   "execution_count": 36,
   "id": "7e21a0cf",
   "metadata": {},
   "outputs": [
    {
     "data": {
      "text/plain": [
       "0    0.96\n",
       "1    0.98\n",
       "2    0.67\n",
       "3     NaN\n",
       "4    1.00\n",
       "Name: host_response_rate, dtype: float64"
      ]
     },
     "execution_count": 36,
     "metadata": {},
     "output_type": "execute_result"
    }
   ],
   "source": [
    "li.host_response_rate = li.host_response_rate.astype(str)\n",
    "li.host_response_rate = li.host_response_rate.apply(lambda x:x.replace('%', ''))\n",
    "li.host_response_rate = li.host_response_rate.astype(float)\n",
    "li.host_response_rate = li.host_response_rate / 100 \n",
    "li.host_response_rate.head()"
   ]
  },
  {
   "cell_type": "code",
   "execution_count": 37,
   "id": "0d0f3d88",
   "metadata": {},
   "outputs": [],
   "source": [
    "# Columns that contain information about prices Data cleaning"
   ]
  },
  {
   "cell_type": "code",
   "execution_count": 38,
   "id": "8565b1f9",
   "metadata": {},
   "outputs": [
    {
     "data": {
      "text/html": [
       "<div>\n",
       "<style scoped>\n",
       "    .dataframe tbody tr th:only-of-type {\n",
       "        vertical-align: middle;\n",
       "    }\n",
       "\n",
       "    .dataframe tbody tr th {\n",
       "        vertical-align: top;\n",
       "    }\n",
       "\n",
       "    .dataframe thead th {\n",
       "        text-align: right;\n",
       "    }\n",
       "</style>\n",
       "<table border=\"1\" class=\"dataframe\">\n",
       "  <thead>\n",
       "    <tr style=\"text-align: right;\">\n",
       "      <th></th>\n",
       "      <th>cleaning_fee</th>\n",
       "      <th>security_deposit</th>\n",
       "      <th>monthly_price</th>\n",
       "      <th>weekly_price</th>\n",
       "      <th>price</th>\n",
       "    </tr>\n",
       "  </thead>\n",
       "  <tbody>\n",
       "    <tr>\n",
       "      <th>0</th>\n",
       "      <td>NaN</td>\n",
       "      <td>NaN</td>\n",
       "      <td>NaN</td>\n",
       "      <td>NaN</td>\n",
       "      <td>$85.00</td>\n",
       "    </tr>\n",
       "    <tr>\n",
       "      <th>1</th>\n",
       "      <td>$40.00</td>\n",
       "      <td>$100.00</td>\n",
       "      <td>$3,000.00</td>\n",
       "      <td>$1,000.00</td>\n",
       "      <td>$150.00</td>\n",
       "    </tr>\n",
       "    <tr>\n",
       "      <th>2</th>\n",
       "      <td>$300.00</td>\n",
       "      <td>$1,000.00</td>\n",
       "      <td>NaN</td>\n",
       "      <td>NaN</td>\n",
       "      <td>$975.00</td>\n",
       "    </tr>\n",
       "    <tr>\n",
       "      <th>3</th>\n",
       "      <td>NaN</td>\n",
       "      <td>NaN</td>\n",
       "      <td>$2,300.00</td>\n",
       "      <td>$650.00</td>\n",
       "      <td>$100.00</td>\n",
       "    </tr>\n",
       "    <tr>\n",
       "      <th>4</th>\n",
       "      <td>$125.00</td>\n",
       "      <td>$700.00</td>\n",
       "      <td>NaN</td>\n",
       "      <td>NaN</td>\n",
       "      <td>$450.00</td>\n",
       "    </tr>\n",
       "  </tbody>\n",
       "</table>\n",
       "</div>"
      ],
      "text/plain": [
       "  cleaning_fee security_deposit monthly_price weekly_price    price\n",
       "0          NaN              NaN           NaN          NaN   $85.00\n",
       "1       $40.00          $100.00     $3,000.00    $1,000.00  $150.00\n",
       "2      $300.00        $1,000.00           NaN          NaN  $975.00\n",
       "3          NaN              NaN     $2,300.00      $650.00  $100.00\n",
       "4      $125.00          $700.00           NaN          NaN  $450.00"
      ]
     },
     "execution_count": 38,
     "metadata": {},
     "output_type": "execute_result"
    }
   ],
   "source": [
    "li[['cleaning_fee','security_deposit','monthly_price','weekly_price','price']].head()"
   ]
  },
  {
   "cell_type": "code",
   "execution_count": 39,
   "id": "37e2c22b",
   "metadata": {},
   "outputs": [],
   "source": [
    "prices_columns = ['cleaning_fee','security_deposit','monthly_price','weekly_price','price','extra_people']\n",
    "for column in prices_columns:\n",
    "    li[column] = li[column].str.replace('[,$]','', regex=True).astype(float)\n",
    "    li[column].fillna(0.0, inplace = True)"
   ]
  },
  {
   "cell_type": "code",
   "execution_count": 40,
   "id": "ce4f3af3",
   "metadata": {},
   "outputs": [
    {
     "data": {
      "text/html": [
       "<div>\n",
       "<style scoped>\n",
       "    .dataframe tbody tr th:only-of-type {\n",
       "        vertical-align: middle;\n",
       "    }\n",
       "\n",
       "    .dataframe tbody tr th {\n",
       "        vertical-align: top;\n",
       "    }\n",
       "\n",
       "    .dataframe thead th {\n",
       "        text-align: right;\n",
       "    }\n",
       "</style>\n",
       "<table border=\"1\" class=\"dataframe\">\n",
       "  <thead>\n",
       "    <tr style=\"text-align: right;\">\n",
       "      <th></th>\n",
       "      <th>cleaning_fee</th>\n",
       "      <th>security_deposit</th>\n",
       "      <th>monthly_price</th>\n",
       "      <th>weekly_price</th>\n",
       "      <th>price</th>\n",
       "      <th>extra_people</th>\n",
       "    </tr>\n",
       "  </thead>\n",
       "  <tbody>\n",
       "    <tr>\n",
       "      <th>0</th>\n",
       "      <td>0.0</td>\n",
       "      <td>0.0</td>\n",
       "      <td>0.0</td>\n",
       "      <td>0.0</td>\n",
       "      <td>85.0</td>\n",
       "      <td>5.0</td>\n",
       "    </tr>\n",
       "    <tr>\n",
       "      <th>1</th>\n",
       "      <td>40.0</td>\n",
       "      <td>100.0</td>\n",
       "      <td>3000.0</td>\n",
       "      <td>1000.0</td>\n",
       "      <td>150.0</td>\n",
       "      <td>0.0</td>\n",
       "    </tr>\n",
       "    <tr>\n",
       "      <th>2</th>\n",
       "      <td>300.0</td>\n",
       "      <td>1000.0</td>\n",
       "      <td>0.0</td>\n",
       "      <td>0.0</td>\n",
       "      <td>975.0</td>\n",
       "      <td>25.0</td>\n",
       "    </tr>\n",
       "    <tr>\n",
       "      <th>3</th>\n",
       "      <td>0.0</td>\n",
       "      <td>0.0</td>\n",
       "      <td>2300.0</td>\n",
       "      <td>650.0</td>\n",
       "      <td>100.0</td>\n",
       "      <td>0.0</td>\n",
       "    </tr>\n",
       "    <tr>\n",
       "      <th>4</th>\n",
       "      <td>125.0</td>\n",
       "      <td>700.0</td>\n",
       "      <td>0.0</td>\n",
       "      <td>0.0</td>\n",
       "      <td>450.0</td>\n",
       "      <td>15.0</td>\n",
       "    </tr>\n",
       "  </tbody>\n",
       "</table>\n",
       "</div>"
      ],
      "text/plain": [
       "   cleaning_fee  security_deposit  monthly_price  weekly_price  price  \\\n",
       "0           0.0               0.0            0.0           0.0   85.0   \n",
       "1          40.0             100.0         3000.0        1000.0  150.0   \n",
       "2         300.0            1000.0            0.0           0.0  975.0   \n",
       "3           0.0               0.0         2300.0         650.0  100.0   \n",
       "4         125.0             700.0            0.0           0.0  450.0   \n",
       "\n",
       "   extra_people  \n",
       "0           5.0  \n",
       "1           0.0  \n",
       "2          25.0  \n",
       "3           0.0  \n",
       "4          15.0  "
      ]
     },
     "execution_count": 40,
     "metadata": {},
     "output_type": "execute_result"
    }
   ],
   "source": [
    "li[prices_columns].head()"
   ]
  },
  {
   "cell_type": "code",
   "execution_count": 41,
   "id": "364954eb",
   "metadata": {},
   "outputs": [],
   "source": [
    "# cleaning datetime columns"
   ]
  },
  {
   "cell_type": "code",
   "execution_count": 42,
   "id": "f85b95b9",
   "metadata": {},
   "outputs": [
    {
     "name": "stdout",
     "output_type": "stream",
     "text": [
      "<class 'pandas.core.frame.DataFrame'>\n",
      "RangeIndex: 3818 entries, 0 to 3817\n",
      "Data columns (total 5 columns):\n",
      " #   Column                 Non-Null Count  Dtype         \n",
      "---  ------                 --------------  -----         \n",
      " 0   last_scraped           3818 non-null   datetime64[ns]\n",
      " 1   host_since             3816 non-null   datetime64[ns]\n",
      " 2   calendar_last_scraped  3818 non-null   datetime64[ns]\n",
      " 3   first_review           3191 non-null   datetime64[ns]\n",
      " 4   last_review            3191 non-null   datetime64[ns]\n",
      "dtypes: datetime64[ns](5)\n",
      "memory usage: 149.3 KB\n"
     ]
    }
   ],
   "source": [
    "date_columns = ['last_scraped', 'host_since','calendar_last_scraped','first_review','last_review']\n",
    "for column in date_columns:\n",
    "    li[column] = pd.to_datetime(li[column])\n",
    "li[date_columns].info()"
   ]
  },
  {
   "cell_type": "code",
   "execution_count": 43,
   "id": "bdad4317",
   "metadata": {},
   "outputs": [
    {
     "data": {
      "text/plain": [
       "['summary',\n",
       " 'thumbnail_url',\n",
       " 'medium_url',\n",
       " 'xl_picture_url',\n",
       " 'host_name',\n",
       " 'host_since',\n",
       " 'host_location',\n",
       " 'host_is_superhost',\n",
       " 'host_thumbnail_url',\n",
       " 'host_picture_url',\n",
       " 'host_neighbourhood',\n",
       " 'host_listings_count',\n",
       " 'host_total_listings_count',\n",
       " 'host_has_profile_pic',\n",
       " 'host_identity_verified',\n",
       " 'neighbourhood',\n",
       " 'zipcode',\n",
       " 'property_type',\n",
       " 'bathrooms',\n",
       " 'bedrooms',\n",
       " 'beds']"
      ]
     },
     "execution_count": 43,
     "metadata": {},
     "output_type": "execute_result"
    }
   ],
   "source": [
    "current_columns = li.columns\n",
    "columns_with_na_values = []\n",
    "for col in list(listings_missing_avg[(listings_missing_avg['null_avg'] > 0.0) & (listings_missing_avg['null_avg'] < 0.13)]['column']):\n",
    "    if col in current_columns:\n",
    "        columns_with_na_values.append(col)\n",
    "columns_with_na_values"
   ]
  },
  {
   "cell_type": "code",
   "execution_count": 44,
   "id": "f78e8ef7",
   "metadata": {},
   "outputs": [],
   "source": [
    "# delete useless columns"
   ]
  },
  {
   "cell_type": "code",
   "execution_count": 45,
   "id": "206d7d0f",
   "metadata": {},
   "outputs": [
    {
     "data": {
      "text/html": [
       "<div>\n",
       "<style scoped>\n",
       "    .dataframe tbody tr th:only-of-type {\n",
       "        vertical-align: middle;\n",
       "    }\n",
       "\n",
       "    .dataframe tbody tr th {\n",
       "        vertical-align: top;\n",
       "    }\n",
       "\n",
       "    .dataframe thead th {\n",
       "        text-align: right;\n",
       "    }\n",
       "</style>\n",
       "<table border=\"1\" class=\"dataframe\">\n",
       "  <thead>\n",
       "    <tr style=\"text-align: right;\">\n",
       "      <th></th>\n",
       "      <th>id</th>\n",
       "      <th>listing_url</th>\n",
       "      <th>scrape_id</th>\n",
       "      <th>last_scraped</th>\n",
       "      <th>name</th>\n",
       "      <th>description</th>\n",
       "      <th>experiences_offered</th>\n",
       "      <th>picture_url</th>\n",
       "      <th>host_id</th>\n",
       "      <th>host_url</th>\n",
       "      <th>...</th>\n",
       "      <th>review_scores_location</th>\n",
       "      <th>review_scores_value</th>\n",
       "      <th>requires_license</th>\n",
       "      <th>jurisdiction_names</th>\n",
       "      <th>instant_bookable</th>\n",
       "      <th>cancellation_policy</th>\n",
       "      <th>require_guest_profile_picture</th>\n",
       "      <th>require_guest_phone_verification</th>\n",
       "      <th>calculated_host_listings_count</th>\n",
       "      <th>reviews_per_month</th>\n",
       "    </tr>\n",
       "  </thead>\n",
       "  <tbody>\n",
       "    <tr>\n",
       "      <th>0</th>\n",
       "      <td>241032</td>\n",
       "      <td>https://www.airbnb.com/rooms/241032</td>\n",
       "      <td>20160104002432</td>\n",
       "      <td>2016-01-04</td>\n",
       "      <td>Stylish Queen Anne Apartment</td>\n",
       "      <td>Make your self at home in this charming one-be...</td>\n",
       "      <td>none</td>\n",
       "      <td>https://a1.muscache.com/ac/pictures/67560560/c...</td>\n",
       "      <td>956883</td>\n",
       "      <td>https://www.airbnb.com/users/show/956883</td>\n",
       "      <td>...</td>\n",
       "      <td>9.0</td>\n",
       "      <td>10.0</td>\n",
       "      <td>f</td>\n",
       "      <td>WASHINGTON</td>\n",
       "      <td>f</td>\n",
       "      <td>moderate</td>\n",
       "      <td>f</td>\n",
       "      <td>f</td>\n",
       "      <td>2</td>\n",
       "      <td>4.07</td>\n",
       "    </tr>\n",
       "    <tr>\n",
       "      <th>1</th>\n",
       "      <td>953595</td>\n",
       "      <td>https://www.airbnb.com/rooms/953595</td>\n",
       "      <td>20160104002432</td>\n",
       "      <td>2016-01-04</td>\n",
       "      <td>Bright &amp; Airy Queen Anne Apartment</td>\n",
       "      <td>Chemically sensitive? We've removed the irrita...</td>\n",
       "      <td>none</td>\n",
       "      <td>https://a0.muscache.com/ac/pictures/14409893/f...</td>\n",
       "      <td>5177328</td>\n",
       "      <td>https://www.airbnb.com/users/show/5177328</td>\n",
       "      <td>...</td>\n",
       "      <td>10.0</td>\n",
       "      <td>10.0</td>\n",
       "      <td>f</td>\n",
       "      <td>WASHINGTON</td>\n",
       "      <td>f</td>\n",
       "      <td>strict</td>\n",
       "      <td>t</td>\n",
       "      <td>t</td>\n",
       "      <td>6</td>\n",
       "      <td>1.48</td>\n",
       "    </tr>\n",
       "  </tbody>\n",
       "</table>\n",
       "<p>2 rows × 78 columns</p>\n",
       "</div>"
      ],
      "text/plain": [
       "       id                          listing_url       scrape_id last_scraped  \\\n",
       "0  241032  https://www.airbnb.com/rooms/241032  20160104002432   2016-01-04   \n",
       "1  953595  https://www.airbnb.com/rooms/953595  20160104002432   2016-01-04   \n",
       "\n",
       "                                 name  \\\n",
       "0        Stylish Queen Anne Apartment   \n",
       "1  Bright & Airy Queen Anne Apartment   \n",
       "\n",
       "                                         description experiences_offered  \\\n",
       "0  Make your self at home in this charming one-be...                none   \n",
       "1  Chemically sensitive? We've removed the irrita...                none   \n",
       "\n",
       "                                         picture_url  host_id  \\\n",
       "0  https://a1.muscache.com/ac/pictures/67560560/c...   956883   \n",
       "1  https://a0.muscache.com/ac/pictures/14409893/f...  5177328   \n",
       "\n",
       "                                    host_url  ... review_scores_location  \\\n",
       "0   https://www.airbnb.com/users/show/956883  ...                    9.0   \n",
       "1  https://www.airbnb.com/users/show/5177328  ...                   10.0   \n",
       "\n",
       "  review_scores_value  requires_license  jurisdiction_names  instant_bookable  \\\n",
       "0                10.0                 f          WASHINGTON                 f   \n",
       "1                10.0                 f          WASHINGTON                 f   \n",
       "\n",
       "  cancellation_policy require_guest_profile_picture  \\\n",
       "0            moderate                             f   \n",
       "1              strict                             t   \n",
       "\n",
       "   require_guest_phone_verification  calculated_host_listings_count  \\\n",
       "0                                 f                               2   \n",
       "1                                 t                               6   \n",
       "\n",
       "  reviews_per_month  \n",
       "0              4.07  \n",
       "1              1.48  \n",
       "\n",
       "[2 rows x 78 columns]"
      ]
     },
     "execution_count": 45,
     "metadata": {},
     "output_type": "execute_result"
    }
   ],
   "source": [
    "useless_columns = ['summary',\n",
    " 'thumbnail_url',\n",
    " 'medium_url',\n",
    " 'xl_picture_url',\n",
    " 'host_name',\n",
    " 'host_thumbnail_url',\n",
    " 'host_picture_url'\n",
    "]\n",
    "li.drop(columns=useless_columns, axis = 1, inplace = True)\n",
    "li.head(2)"
   ]
  },
  {
   "cell_type": "code",
   "execution_count": 46,
   "id": "aa9af384",
   "metadata": {},
   "outputs": [],
   "source": [
    "# encode true & flase (boolean) columns"
   ]
  },
  {
   "cell_type": "code",
   "execution_count": 47,
   "id": "23634f58",
   "metadata": {},
   "outputs": [
    {
     "data": {
      "text/plain": [
       "['host_is_superhost',\n",
       " 'host_has_profile_pic',\n",
       " 'host_identity_verified',\n",
       " 'is_location_exact',\n",
       " 'has_availability',\n",
       " 'requires_license',\n",
       " 'instant_bookable',\n",
       " 'require_guest_profile_picture',\n",
       " 'require_guest_phone_verification']"
      ]
     },
     "execution_count": 47,
     "metadata": {},
     "output_type": "execute_result"
    }
   ],
   "source": [
    "tf_columns = []\n",
    "for column in li.columns:\n",
    "    if li[column][0] in ['t','f']:\n",
    "        tf_columns.append(column)\n",
    "tf_columns"
   ]
  },
  {
   "cell_type": "code",
   "execution_count": 48,
   "id": "b35eee8a",
   "metadata": {},
   "outputs": [
    {
     "data": {
      "text/html": [
       "<div>\n",
       "<style scoped>\n",
       "    .dataframe tbody tr th:only-of-type {\n",
       "        vertical-align: middle;\n",
       "    }\n",
       "\n",
       "    .dataframe tbody tr th {\n",
       "        vertical-align: top;\n",
       "    }\n",
       "\n",
       "    .dataframe thead th {\n",
       "        text-align: right;\n",
       "    }\n",
       "</style>\n",
       "<table border=\"1\" class=\"dataframe\">\n",
       "  <thead>\n",
       "    <tr style=\"text-align: right;\">\n",
       "      <th></th>\n",
       "      <th>host_is_superhost</th>\n",
       "      <th>host_has_profile_pic</th>\n",
       "      <th>host_identity_verified</th>\n",
       "      <th>is_location_exact</th>\n",
       "      <th>has_availability</th>\n",
       "      <th>requires_license</th>\n",
       "      <th>instant_bookable</th>\n",
       "      <th>require_guest_profile_picture</th>\n",
       "      <th>require_guest_phone_verification</th>\n",
       "    </tr>\n",
       "  </thead>\n",
       "  <tbody>\n",
       "    <tr>\n",
       "      <th>0</th>\n",
       "      <td>0.0</td>\n",
       "      <td>1.0</td>\n",
       "      <td>1.0</td>\n",
       "      <td>1</td>\n",
       "      <td>1</td>\n",
       "      <td>0</td>\n",
       "      <td>0</td>\n",
       "      <td>0</td>\n",
       "      <td>0</td>\n",
       "    </tr>\n",
       "    <tr>\n",
       "      <th>1</th>\n",
       "      <td>1.0</td>\n",
       "      <td>1.0</td>\n",
       "      <td>1.0</td>\n",
       "      <td>1</td>\n",
       "      <td>1</td>\n",
       "      <td>0</td>\n",
       "      <td>0</td>\n",
       "      <td>1</td>\n",
       "      <td>1</td>\n",
       "    </tr>\n",
       "    <tr>\n",
       "      <th>2</th>\n",
       "      <td>0.0</td>\n",
       "      <td>1.0</td>\n",
       "      <td>1.0</td>\n",
       "      <td>1</td>\n",
       "      <td>1</td>\n",
       "      <td>0</td>\n",
       "      <td>0</td>\n",
       "      <td>0</td>\n",
       "      <td>0</td>\n",
       "    </tr>\n",
       "    <tr>\n",
       "      <th>3</th>\n",
       "      <td>0.0</td>\n",
       "      <td>1.0</td>\n",
       "      <td>1.0</td>\n",
       "      <td>1</td>\n",
       "      <td>1</td>\n",
       "      <td>0</td>\n",
       "      <td>0</td>\n",
       "      <td>0</td>\n",
       "      <td>0</td>\n",
       "    </tr>\n",
       "    <tr>\n",
       "      <th>4</th>\n",
       "      <td>0.0</td>\n",
       "      <td>1.0</td>\n",
       "      <td>1.0</td>\n",
       "      <td>1</td>\n",
       "      <td>1</td>\n",
       "      <td>0</td>\n",
       "      <td>0</td>\n",
       "      <td>0</td>\n",
       "      <td>0</td>\n",
       "    </tr>\n",
       "  </tbody>\n",
       "</table>\n",
       "</div>"
      ],
      "text/plain": [
       "   host_is_superhost  host_has_profile_pic  host_identity_verified  \\\n",
       "0                0.0                   1.0                     1.0   \n",
       "1                1.0                   1.0                     1.0   \n",
       "2                0.0                   1.0                     1.0   \n",
       "3                0.0                   1.0                     1.0   \n",
       "4                0.0                   1.0                     1.0   \n",
       "\n",
       "   is_location_exact  has_availability  requires_license  instant_bookable  \\\n",
       "0                  1                 1                 0                 0   \n",
       "1                  1                 1                 0                 0   \n",
       "2                  1                 1                 0                 0   \n",
       "3                  1                 1                 0                 0   \n",
       "4                  1                 1                 0                 0   \n",
       "\n",
       "   require_guest_profile_picture  require_guest_phone_verification  \n",
       "0                              0                                 0  \n",
       "1                              1                                 1  \n",
       "2                              0                                 0  \n",
       "3                              0                                 0  \n",
       "4                              0                                 0  "
      ]
     },
     "execution_count": 48,
     "metadata": {},
     "output_type": "execute_result"
    }
   ],
   "source": [
    "for column in tf_columns:\n",
    "    li[column] = li[column].map({'t':1, 'f':0})\n",
    "li[tf_columns].head()"
   ]
  },
  {
   "cell_type": "code",
   "execution_count": 49,
   "id": "32d02066",
   "metadata": {},
   "outputs": [
    {
     "name": "stdout",
     "output_type": "stream",
     "text": [
      "<class 'pandas.core.frame.DataFrame'>\n",
      "RangeIndex: 3818 entries, 0 to 3817\n",
      "Data columns (total 9 columns):\n",
      " #   Column                            Non-Null Count  Dtype  \n",
      "---  ------                            --------------  -----  \n",
      " 0   host_is_superhost                 3816 non-null   float64\n",
      " 1   host_has_profile_pic              3816 non-null   float64\n",
      " 2   host_identity_verified            3816 non-null   float64\n",
      " 3   is_location_exact                 3818 non-null   int64  \n",
      " 4   has_availability                  3818 non-null   int64  \n",
      " 5   requires_license                  3818 non-null   int64  \n",
      " 6   instant_bookable                  3818 non-null   int64  \n",
      " 7   require_guest_profile_picture     3818 non-null   int64  \n",
      " 8   require_guest_phone_verification  3818 non-null   int64  \n",
      "dtypes: float64(3), int64(6)\n",
      "memory usage: 268.6 KB\n"
     ]
    }
   ],
   "source": [
    "li[tf_columns].info()"
   ]
  },
  {
   "cell_type": "code",
   "execution_count": 50,
   "id": "69f709f7",
   "metadata": {},
   "outputs": [],
   "source": [
    "# split amenities , convert each amenity to a 0,1 feature (bool)"
   ]
  },
  {
   "cell_type": "code",
   "execution_count": 51,
   "id": "6df1e7f5",
   "metadata": {},
   "outputs": [
    {
     "data": {
      "text/plain": [
       "array(['{TV,\"Cable TV\",Internet,\"Wireless Internet\",\"Air Conditioning\",Kitchen,Heating,\"Family/Kid Friendly\",Washer,Dryer}',\n",
       "       '{TV,Internet,\"Wireless Internet\",Kitchen,\"Free Parking on Premises\",\"Buzzer/Wireless Intercom\",Heating,\"Family/Kid Friendly\",Washer,Dryer,\"Smoke Detector\",\"Carbon Monoxide Detector\",\"First Aid Kit\",\"Safety Card\",\"Fire Extinguisher\",Essentials}',\n",
       "       '{TV,\"Cable TV\",Internet,\"Wireless Internet\",\"Air Conditioning\",Kitchen,\"Free Parking on Premises\",\"Pets Allowed\",\"Pets live on this property\",Dog(s),Cat(s),\"Hot Tub\",\"Indoor Fireplace\",Heating,\"Family/Kid Friendly\",Washer,Dryer,\"Smoke Detector\",\"Carbon Monoxide Detector\",Essentials,Shampoo}',\n",
       "       ...,\n",
       "       '{\"Cable TV\",\"Wireless Internet\",Kitchen,\"Free Parking on Premises\",Breakfast,\"Pets live on this property\",Dog(s),Cat(s),Heating,Washer,Dryer,\"Smoke Detector\",\"First Aid Kit\",\"Safety Card\",\"Fire Extinguisher\",Essentials,Hangers,\"Hair Dryer\",Iron,\"Laptop Friendly Workspace\"}',\n",
       "       '{TV,\"Wireless Internet\",Kitchen,\"Free Parking on Premises\",\"Elevator in Building\",Heating,\"Smoke Detector\",Essentials,Hangers,\"Hair Dryer\",\"Laptop Friendly Workspace\"}',\n",
       "       '{TV,\"Cable TV\",Internet,\"Wireless Internet\",Kitchen,\"Free Parking on Premises\",\"Pets live on this property\",Dog(s),\"Elevator in Building\",\"Hot Tub\",\"Indoor Fireplace\",\"Buzzer/Wireless Intercom\",Heating,\"Family/Kid Friendly\",Washer,Dryer,\"Smoke Detector\",Essentials,Shampoo,Hangers,Iron,\"Laptop Friendly Workspace\"}'],\n",
       "      dtype=object)"
      ]
     },
     "execution_count": 51,
     "metadata": {},
     "output_type": "execute_result"
    }
   ],
   "source": [
    "li.amenities.unique()"
   ]
  },
  {
   "cell_type": "code",
   "execution_count": 52,
   "id": "c7a59b8e",
   "metadata": {},
   "outputs": [
    {
     "data": {
      "text/plain": [
       "{'',\n",
       " '24-Hour Check-in',\n",
       " 'Air Conditioning',\n",
       " 'Breakfast',\n",
       " 'Buzzer/Wireless Intercom',\n",
       " 'Cable TV',\n",
       " 'Carbon Monoxide Detector',\n",
       " 'Cat(s)',\n",
       " 'Dog(s)',\n",
       " 'Doorman',\n",
       " 'Dryer',\n",
       " 'Elevator in Building',\n",
       " 'Essentials',\n",
       " 'Family/Kid Friendly',\n",
       " 'Fire Extinguisher',\n",
       " 'First Aid Kit',\n",
       " 'Free Parking on Premises',\n",
       " 'Gym',\n",
       " 'Hair Dryer',\n",
       " 'Hangers',\n",
       " 'Heating',\n",
       " 'Hot Tub',\n",
       " 'Indoor Fireplace',\n",
       " 'Internet',\n",
       " 'Iron',\n",
       " 'Kitchen',\n",
       " 'Laptop Friendly Workspace',\n",
       " 'Lock on Bedroom Door',\n",
       " 'Other pet(s)',\n",
       " 'Pets Allowed',\n",
       " 'Pets live on this property',\n",
       " 'Pool',\n",
       " 'Safety Card',\n",
       " 'Shampoo',\n",
       " 'Smoke Detector',\n",
       " 'Smoking Allowed',\n",
       " 'Suitable for Events',\n",
       " 'TV',\n",
       " 'Washer',\n",
       " 'Washer / Dryer',\n",
       " 'Wheelchair Accessible',\n",
       " 'Wireless Internet'}"
      ]
     },
     "execution_count": 52,
     "metadata": {},
     "output_type": "execute_result"
    }
   ],
   "source": [
    "amenities =  list(li.amenities.unique())\n",
    "unique_amenities = set()\n",
    "for amenity in amenities:\n",
    "    for item in amenity.split(','):\n",
    "        unique_amenities.add(item.replace('{','').replace('\"','').replace('}',''))\n",
    "unique_amenities"
   ]
  },
  {
   "cell_type": "code",
   "execution_count": 53,
   "id": "3f4babc9",
   "metadata": {},
   "outputs": [],
   "source": [
    "unique_amenities = list(unique_amenities)"
   ]
  },
  {
   "cell_type": "code",
   "execution_count": 54,
   "id": "499505ea",
   "metadata": {},
   "outputs": [],
   "source": [
    "for amenity in unique_amenities[1:]:\n",
    "    li[f'available_{amenity}'] = li['amenities'].map(lambda x: 1 if amenity in x else 0)"
   ]
  },
  {
   "cell_type": "code",
   "execution_count": 55,
   "id": "86506b29",
   "metadata": {},
   "outputs": [
    {
     "data": {
      "text/html": [
       "<div>\n",
       "<style scoped>\n",
       "    .dataframe tbody tr th:only-of-type {\n",
       "        vertical-align: middle;\n",
       "    }\n",
       "\n",
       "    .dataframe tbody tr th {\n",
       "        vertical-align: top;\n",
       "    }\n",
       "\n",
       "    .dataframe thead th {\n",
       "        text-align: right;\n",
       "    }\n",
       "</style>\n",
       "<table border=\"1\" class=\"dataframe\">\n",
       "  <thead>\n",
       "    <tr style=\"text-align: right;\">\n",
       "      <th></th>\n",
       "      <th>price</th>\n",
       "      <th>review_scores_rating</th>\n",
       "      <th>review_scores_communication</th>\n",
       "      <th>review_scores_checkin</th>\n",
       "      <th>review_scores_cleanliness</th>\n",
       "      <th>review_scores_accuracy</th>\n",
       "      <th>review_scores_location</th>\n",
       "      <th>review_scores_value</th>\n",
       "    </tr>\n",
       "  </thead>\n",
       "  <tbody>\n",
       "    <tr>\n",
       "      <th>id</th>\n",
       "      <td>-0.046289</td>\n",
       "      <td>0.039246</td>\n",
       "      <td>0.003389</td>\n",
       "      <td>-0.004710</td>\n",
       "      <td>0.068112</td>\n",
       "      <td>0.045355</td>\n",
       "      <td>0.105444</td>\n",
       "      <td>0.087858</td>\n",
       "    </tr>\n",
       "    <tr>\n",
       "      <th>scrape_id</th>\n",
       "      <td>NaN</td>\n",
       "      <td>NaN</td>\n",
       "      <td>NaN</td>\n",
       "      <td>NaN</td>\n",
       "      <td>NaN</td>\n",
       "      <td>NaN</td>\n",
       "      <td>NaN</td>\n",
       "      <td>NaN</td>\n",
       "    </tr>\n",
       "    <tr>\n",
       "      <th>host_id</th>\n",
       "      <td>-0.051332</td>\n",
       "      <td>0.027348</td>\n",
       "      <td>0.025023</td>\n",
       "      <td>0.022116</td>\n",
       "      <td>0.047576</td>\n",
       "      <td>0.026768</td>\n",
       "      <td>0.073277</td>\n",
       "      <td>0.078829</td>\n",
       "    </tr>\n",
       "    <tr>\n",
       "      <th>host_response_time</th>\n",
       "      <td>0.119064</td>\n",
       "      <td>-0.053659</td>\n",
       "      <td>-0.032292</td>\n",
       "      <td>-0.023093</td>\n",
       "      <td>-0.093593</td>\n",
       "      <td>-0.046719</td>\n",
       "      <td>-0.048378</td>\n",
       "      <td>-0.064540</td>\n",
       "    </tr>\n",
       "    <tr>\n",
       "      <th>host_response_rate</th>\n",
       "      <td>-0.014071</td>\n",
       "      <td>0.156567</td>\n",
       "      <td>0.155346</td>\n",
       "      <td>0.148516</td>\n",
       "      <td>0.170897</td>\n",
       "      <td>0.130925</td>\n",
       "      <td>0.070827</td>\n",
       "      <td>0.149482</td>\n",
       "    </tr>\n",
       "    <tr>\n",
       "      <th>...</th>\n",
       "      <td>...</td>\n",
       "      <td>...</td>\n",
       "      <td>...</td>\n",
       "      <td>...</td>\n",
       "      <td>...</td>\n",
       "      <td>...</td>\n",
       "      <td>...</td>\n",
       "      <td>...</td>\n",
       "    </tr>\n",
       "    <tr>\n",
       "      <th>available_Kitchen</th>\n",
       "      <td>0.125024</td>\n",
       "      <td>0.003243</td>\n",
       "      <td>-0.003786</td>\n",
       "      <td>-0.035952</td>\n",
       "      <td>-0.042026</td>\n",
       "      <td>-0.013290</td>\n",
       "      <td>0.018198</td>\n",
       "      <td>-0.026659</td>\n",
       "    </tr>\n",
       "    <tr>\n",
       "      <th>available_Dryer</th>\n",
       "      <td>0.108310</td>\n",
       "      <td>0.029412</td>\n",
       "      <td>0.003689</td>\n",
       "      <td>-0.007262</td>\n",
       "      <td>-0.007593</td>\n",
       "      <td>-0.003712</td>\n",
       "      <td>0.008016</td>\n",
       "      <td>0.011223</td>\n",
       "    </tr>\n",
       "    <tr>\n",
       "      <th>available_Dog(s)</th>\n",
       "      <td>-0.045007</td>\n",
       "      <td>0.054812</td>\n",
       "      <td>0.031688</td>\n",
       "      <td>0.054255</td>\n",
       "      <td>0.018384</td>\n",
       "      <td>0.042789</td>\n",
       "      <td>-0.000010</td>\n",
       "      <td>0.060311</td>\n",
       "    </tr>\n",
       "    <tr>\n",
       "      <th>available_Hot Tub</th>\n",
       "      <td>0.127066</td>\n",
       "      <td>-0.014822</td>\n",
       "      <td>-0.023616</td>\n",
       "      <td>-0.049176</td>\n",
       "      <td>0.011394</td>\n",
       "      <td>-0.035463</td>\n",
       "      <td>0.031621</td>\n",
       "      <td>-0.026492</td>\n",
       "    </tr>\n",
       "    <tr>\n",
       "      <th>available_Pets Allowed</th>\n",
       "      <td>0.080203</td>\n",
       "      <td>-0.014459</td>\n",
       "      <td>-0.009742</td>\n",
       "      <td>0.001326</td>\n",
       "      <td>-0.070491</td>\n",
       "      <td>-0.036699</td>\n",
       "      <td>-0.018134</td>\n",
       "      <td>-0.016830</td>\n",
       "    </tr>\n",
       "  </tbody>\n",
       "</table>\n",
       "<p>87 rows × 8 columns</p>\n",
       "</div>"
      ],
      "text/plain": [
       "                           price  review_scores_rating  \\\n",
       "id                     -0.046289              0.039246   \n",
       "scrape_id                    NaN                   NaN   \n",
       "host_id                -0.051332              0.027348   \n",
       "host_response_time      0.119064             -0.053659   \n",
       "host_response_rate     -0.014071              0.156567   \n",
       "...                          ...                   ...   \n",
       "available_Kitchen       0.125024              0.003243   \n",
       "available_Dryer         0.108310              0.029412   \n",
       "available_Dog(s)       -0.045007              0.054812   \n",
       "available_Hot Tub       0.127066             -0.014822   \n",
       "available_Pets Allowed  0.080203             -0.014459   \n",
       "\n",
       "                        review_scores_communication  review_scores_checkin  \\\n",
       "id                                         0.003389              -0.004710   \n",
       "scrape_id                                       NaN                    NaN   \n",
       "host_id                                    0.025023               0.022116   \n",
       "host_response_time                        -0.032292              -0.023093   \n",
       "host_response_rate                         0.155346               0.148516   \n",
       "...                                             ...                    ...   \n",
       "available_Kitchen                         -0.003786              -0.035952   \n",
       "available_Dryer                            0.003689              -0.007262   \n",
       "available_Dog(s)                           0.031688               0.054255   \n",
       "available_Hot Tub                         -0.023616              -0.049176   \n",
       "available_Pets Allowed                    -0.009742               0.001326   \n",
       "\n",
       "                        review_scores_cleanliness  review_scores_accuracy  \\\n",
       "id                                       0.068112                0.045355   \n",
       "scrape_id                                     NaN                     NaN   \n",
       "host_id                                  0.047576                0.026768   \n",
       "host_response_time                      -0.093593               -0.046719   \n",
       "host_response_rate                       0.170897                0.130925   \n",
       "...                                           ...                     ...   \n",
       "available_Kitchen                       -0.042026               -0.013290   \n",
       "available_Dryer                         -0.007593               -0.003712   \n",
       "available_Dog(s)                         0.018384                0.042789   \n",
       "available_Hot Tub                        0.011394               -0.035463   \n",
       "available_Pets Allowed                  -0.070491               -0.036699   \n",
       "\n",
       "                        review_scores_location  review_scores_value  \n",
       "id                                    0.105444             0.087858  \n",
       "scrape_id                                  NaN                  NaN  \n",
       "host_id                               0.073277             0.078829  \n",
       "host_response_time                   -0.048378            -0.064540  \n",
       "host_response_rate                    0.070827             0.149482  \n",
       "...                                        ...                  ...  \n",
       "available_Kitchen                     0.018198            -0.026659  \n",
       "available_Dryer                       0.008016             0.011223  \n",
       "available_Dog(s)                     -0.000010             0.060311  \n",
       "available_Hot Tub                     0.031621            -0.026492  \n",
       "available_Pets Allowed               -0.018134            -0.016830  \n",
       "\n",
       "[87 rows x 8 columns]"
      ]
     },
     "execution_count": 55,
     "metadata": {},
     "output_type": "execute_result"
    }
   ],
   "source": [
    "corr_matrx = li.corr()\n",
    "corr_matrx[['price','review_scores_rating','review_scores_communication','review_scores_checkin','review_scores_cleanliness','review_scores_accuracy','review_scores_location','review_scores_value']]"
   ]
  },
  {
   "cell_type": "code",
   "execution_count": 56,
   "id": "af5084cc",
   "metadata": {},
   "outputs": [],
   "source": [
    "df = corr_matrx[['price','review_scores_rating','review_scores_communication','review_scores_checkin','review_scores_cleanliness','review_scores_accuracy','review_scores_location','review_scores_value']]"
   ]
  },
  {
   "cell_type": "code",
   "execution_count": 57,
   "id": "53caa141",
   "metadata": {},
   "outputs": [
    {
     "data": {
      "text/html": [
       "<div>\n",
       "<style scoped>\n",
       "    .dataframe tbody tr th:only-of-type {\n",
       "        vertical-align: middle;\n",
       "    }\n",
       "\n",
       "    .dataframe tbody tr th {\n",
       "        vertical-align: top;\n",
       "    }\n",
       "\n",
       "    .dataframe thead th {\n",
       "        text-align: right;\n",
       "    }\n",
       "</style>\n",
       "<table border=\"1\" class=\"dataframe\">\n",
       "  <thead>\n",
       "    <tr style=\"text-align: right;\">\n",
       "      <th></th>\n",
       "      <th>review_scores_value</th>\n",
       "    </tr>\n",
       "  </thead>\n",
       "  <tbody>\n",
       "    <tr>\n",
       "      <th>host_response_rate</th>\n",
       "      <td>0.149482</td>\n",
       "    </tr>\n",
       "    <tr>\n",
       "      <th>host_is_superhost</th>\n",
       "      <td>0.221285</td>\n",
       "    </tr>\n",
       "    <tr>\n",
       "      <th>review_scores_rating</th>\n",
       "      <td>0.696534</td>\n",
       "    </tr>\n",
       "    <tr>\n",
       "      <th>review_scores_accuracy</th>\n",
       "      <td>0.562878</td>\n",
       "    </tr>\n",
       "    <tr>\n",
       "      <th>review_scores_cleanliness</th>\n",
       "      <td>0.524354</td>\n",
       "    </tr>\n",
       "    <tr>\n",
       "      <th>review_scores_checkin</th>\n",
       "      <td>0.403263</td>\n",
       "    </tr>\n",
       "    <tr>\n",
       "      <th>review_scores_communication</th>\n",
       "      <td>0.463772</td>\n",
       "    </tr>\n",
       "    <tr>\n",
       "      <th>review_scores_location</th>\n",
       "      <td>0.368252</td>\n",
       "    </tr>\n",
       "    <tr>\n",
       "      <th>review_scores_value</th>\n",
       "      <td>1.000000</td>\n",
       "    </tr>\n",
       "    <tr>\n",
       "      <th>reviews_per_month</th>\n",
       "      <td>0.126014</td>\n",
       "    </tr>\n",
       "    <tr>\n",
       "      <th>available_Free Parking on Premises</th>\n",
       "      <td>0.104606</td>\n",
       "    </tr>\n",
       "    <tr>\n",
       "      <th>available_First Aid Kit</th>\n",
       "      <td>0.101641</td>\n",
       "    </tr>\n",
       "    <tr>\n",
       "      <th>available_Pets live on this property</th>\n",
       "      <td>0.105870</td>\n",
       "    </tr>\n",
       "  </tbody>\n",
       "</table>\n",
       "</div>"
      ],
      "text/plain": [
       "                                      review_scores_value\n",
       "host_response_rate                               0.149482\n",
       "host_is_superhost                                0.221285\n",
       "review_scores_rating                             0.696534\n",
       "review_scores_accuracy                           0.562878\n",
       "review_scores_cleanliness                        0.524354\n",
       "review_scores_checkin                            0.403263\n",
       "review_scores_communication                      0.463772\n",
       "review_scores_location                           0.368252\n",
       "review_scores_value                              1.000000\n",
       "reviews_per_month                                0.126014\n",
       "available_Free Parking on Premises               0.104606\n",
       "available_First Aid Kit                          0.101641\n",
       "available_Pets live on this property             0.105870"
      ]
     },
     "execution_count": 57,
     "metadata": {},
     "output_type": "execute_result"
    }
   ],
   "source": [
    "high_corr_review_value = df[(df['review_scores_value'] > 0.1)]['review_scores_value'].to_frame()\n",
    "high_corr_review_value"
   ]
  },
  {
   "cell_type": "code",
   "execution_count": 58,
   "id": "57742872",
   "metadata": {},
   "outputs": [
    {
     "data": {
      "text/plain": [
       "['host_response_rate',\n",
       " 'host_is_superhost',\n",
       " 'available_Free Parking on Premises',\n",
       " 'available_First Aid Kit',\n",
       " 'available_Pets live on this property']"
      ]
     },
     "execution_count": 58,
     "metadata": {},
     "output_type": "execute_result"
    }
   ],
   "source": [
    "# columns with above 0.23 correlation is related about reviews \n",
    "targetted_list = list(high_corr_review_value[high_corr_review_value['review_scores_value'] < 0.23].index)\n",
    "targetted_list.remove('reviews_per_month')\n",
    "targetted_list"
   ]
  },
  {
   "cell_type": "code",
   "execution_count": 59,
   "id": "cd9b9d90",
   "metadata": {},
   "outputs": [
    {
     "data": {
      "text/html": [
       "<div>\n",
       "<style scoped>\n",
       "    .dataframe tbody tr th:only-of-type {\n",
       "        vertical-align: middle;\n",
       "    }\n",
       "\n",
       "    .dataframe tbody tr th {\n",
       "        vertical-align: top;\n",
       "    }\n",
       "\n",
       "    .dataframe thead th {\n",
       "        text-align: right;\n",
       "    }\n",
       "</style>\n",
       "<table border=\"1\" class=\"dataframe\">\n",
       "  <thead>\n",
       "    <tr style=\"text-align: right;\">\n",
       "      <th></th>\n",
       "      <th>review_scores_value</th>\n",
       "      <th>Feature</th>\n",
       "    </tr>\n",
       "  </thead>\n",
       "  <tbody>\n",
       "    <tr>\n",
       "      <th>0</th>\n",
       "      <td>0.149482</td>\n",
       "      <td>host_response_rate</td>\n",
       "    </tr>\n",
       "    <tr>\n",
       "      <th>1</th>\n",
       "      <td>0.221285</td>\n",
       "      <td>host_is_superhost</td>\n",
       "    </tr>\n",
       "    <tr>\n",
       "      <th>2</th>\n",
       "      <td>0.104606</td>\n",
       "      <td>available_Free Parking on Premises</td>\n",
       "    </tr>\n",
       "    <tr>\n",
       "      <th>3</th>\n",
       "      <td>0.101641</td>\n",
       "      <td>available_First Aid Kit</td>\n",
       "    </tr>\n",
       "    <tr>\n",
       "      <th>4</th>\n",
       "      <td>0.105870</td>\n",
       "      <td>available_Pets live on this property</td>\n",
       "    </tr>\n",
       "  </tbody>\n",
       "</table>\n",
       "</div>"
      ],
      "text/plain": [
       "   review_scores_value                               Feature\n",
       "0             0.149482                    host_response_rate\n",
       "1             0.221285                     host_is_superhost\n",
       "2             0.104606    available_Free Parking on Premises\n",
       "3             0.101641               available_First Aid Kit\n",
       "4             0.105870  available_Pets live on this property"
      ]
     },
     "execution_count": 59,
     "metadata": {},
     "output_type": "execute_result"
    }
   ],
   "source": [
    "review_value_df = corr_matrx[targetted_list].loc['review_scores_value',:].to_frame()\n",
    "review_value_df['Feature'] = review_value_df.index\n",
    "review_value_df.index = np.arange(review_value_df.shape[0])\n",
    "review_value_df"
   ]
  },
  {
   "cell_type": "code",
   "execution_count": 60,
   "id": "7160ef17",
   "metadata": {},
   "outputs": [
    {
     "data": {
      "text/html": [
       "<div>\n",
       "<style scoped>\n",
       "    .dataframe tbody tr th:only-of-type {\n",
       "        vertical-align: middle;\n",
       "    }\n",
       "\n",
       "    .dataframe tbody tr th {\n",
       "        vertical-align: top;\n",
       "    }\n",
       "\n",
       "    .dataframe thead th {\n",
       "        text-align: right;\n",
       "    }\n",
       "</style>\n",
       "<table border=\"1\" class=\"dataframe\">\n",
       "  <thead>\n",
       "    <tr style=\"text-align: right;\">\n",
       "      <th></th>\n",
       "      <th>review_scores_value</th>\n",
       "      <th>Feature</th>\n",
       "    </tr>\n",
       "  </thead>\n",
       "  <tbody>\n",
       "    <tr>\n",
       "      <th>1</th>\n",
       "      <td>0.221285</td>\n",
       "      <td>host_is_superhost</td>\n",
       "    </tr>\n",
       "    <tr>\n",
       "      <th>0</th>\n",
       "      <td>0.149482</td>\n",
       "      <td>host_response_rate</td>\n",
       "    </tr>\n",
       "    <tr>\n",
       "      <th>4</th>\n",
       "      <td>0.105870</td>\n",
       "      <td>available_Pets live on this property</td>\n",
       "    </tr>\n",
       "    <tr>\n",
       "      <th>2</th>\n",
       "      <td>0.104606</td>\n",
       "      <td>available_Free Parking on Premises</td>\n",
       "    </tr>\n",
       "    <tr>\n",
       "      <th>3</th>\n",
       "      <td>0.101641</td>\n",
       "      <td>available_First Aid Kit</td>\n",
       "    </tr>\n",
       "  </tbody>\n",
       "</table>\n",
       "</div>"
      ],
      "text/plain": [
       "   review_scores_value                               Feature\n",
       "1             0.221285                     host_is_superhost\n",
       "0             0.149482                    host_response_rate\n",
       "4             0.105870  available_Pets live on this property\n",
       "2             0.104606    available_Free Parking on Premises\n",
       "3             0.101641               available_First Aid Kit"
      ]
     },
     "execution_count": 60,
     "metadata": {},
     "output_type": "execute_result"
    }
   ],
   "source": [
    "review_value_df = review_value_df.sort_values(by = 'review_scores_value', ascending=False)\n",
    "review_value_df"
   ]
  },
  {
   "cell_type": "markdown",
   "id": "8067775b",
   "metadata": {},
   "source": [
    "# **Listings EDA**"
   ]
  },
  {
   "cell_type": "markdown",
   "id": "04c38eb6",
   "metadata": {},
   "source": [
    "## Features affect on review scores value"
   ]
  },
  {
   "cell_type": "code",
   "execution_count": 61,
   "id": "e4b04e8b",
   "metadata": {},
   "outputs": [
    {
     "data": {
      "image/png": "[encoded data removed]",
      "text/plain": [
       "<Figure size 1440x720 with 1 Axes>"
      ]
     },
     "metadata": {
      "needs_background": "light"
     },
     "output_type": "display_data"
    }
   ],
   "source": [
    "plt.figure(figsize=(20, 10))\n",
    "sns.barplot(x = review_value_df['Feature'],\n",
    "           y = review_value_df['review_scores_value']);\n",
    "plt.title('Features affect on review scores value', fontsize = 22)\n",
    "plt.xlabel('Feature', fontsize = 18)\n",
    "plt.xticks(fontsize = 12)\n",
    "plt.yticks(fontsize = 14)\n",
    "plt.ylabel('Correlation', fontsize = 18)\n",
    "plt.show()"
   ]
  },
  {
   "cell_type": "markdown",
   "id": "611a6df1",
   "metadata": {},
   "source": [
    "## meaningful features affected on review scores value \n",
    "- if the host is super host 22.21%\n",
    "- also host reponse rate affect with ~ 15%\n",
    "- pets live , Free parking, and first aid kit ~ 10%\n",
    "#### Of course, there were other features that affect the review value, but they do not indicate anything like\n",
    "- review_scores_cleanliness\n",
    "- review_scores_accuracy\n",
    "- review_scores_rating"
   ]
  },
  {
   "cell_type": "code",
   "execution_count": 62,
   "id": "015f9bae",
   "metadata": {},
   "outputs": [
    {
     "data": {
      "text/html": [
       "<div>\n",
       "<style scoped>\n",
       "    .dataframe tbody tr th:only-of-type {\n",
       "        vertical-align: middle;\n",
       "    }\n",
       "\n",
       "    .dataframe tbody tr th {\n",
       "        vertical-align: top;\n",
       "    }\n",
       "\n",
       "    .dataframe thead th {\n",
       "        text-align: right;\n",
       "    }\n",
       "</style>\n",
       "<table border=\"1\" class=\"dataframe\">\n",
       "  <thead>\n",
       "    <tr style=\"text-align: right;\">\n",
       "      <th></th>\n",
       "      <th>price</th>\n",
       "      <th>std_price</th>\n",
       "      <th>room_type</th>\n",
       "    </tr>\n",
       "  </thead>\n",
       "  <tbody>\n",
       "    <tr>\n",
       "      <th>0</th>\n",
       "      <td>155.843369</td>\n",
       "      <td>96.551181</td>\n",
       "      <td>Entire home/apt</td>\n",
       "    </tr>\n",
       "    <tr>\n",
       "      <th>1</th>\n",
       "      <td>75.044828</td>\n",
       "      <td>34.603905</td>\n",
       "      <td>Private room</td>\n",
       "    </tr>\n",
       "    <tr>\n",
       "      <th>2</th>\n",
       "      <td>47.547009</td>\n",
       "      <td>19.372704</td>\n",
       "      <td>Shared room</td>\n",
       "    </tr>\n",
       "  </tbody>\n",
       "</table>\n",
       "</div>"
      ],
      "text/plain": [
       "        price  std_price        room_type\n",
       "0  155.843369  96.551181  Entire home/apt\n",
       "1   75.044828  34.603905     Private room\n",
       "2   47.547009  19.372704      Shared room"
      ]
     },
     "execution_count": 62,
     "metadata": {},
     "output_type": "execute_result"
    }
   ],
   "source": [
    "avg_price_per_room_type = li.groupby('room_type')['price'].mean().to_frame()\n",
    "avg_price_per_room_type['std_price'] = li.groupby('room_type')['price'].std()\n",
    "avg_price_per_room_type['room_type'] = avg_price_per_room_type.index\n",
    "avg_price_per_room_type.index = np.arange(avg_price_per_room_type.shape[0])\n",
    "avg_price_per_room_type"
   ]
  },
  {
   "cell_type": "markdown",
   "id": "6bf6c13e",
   "metadata": {},
   "source": [
    "## Average price per room type"
   ]
  },
  {
   "cell_type": "code",
   "execution_count": 63,
   "id": "72479a01",
   "metadata": {},
   "outputs": [
    {
     "data": {
      "image/png": "[encoded data removed]",
      "text/plain": [
       "<Figure size 1440x720 with 1 Axes>"
      ]
     },
     "metadata": {
      "needs_background": "light"
     },
     "output_type": "display_data"
    }
   ],
   "source": [
    "plt.figure(figsize=(20, 10))\n",
    "sns.barplot(x = avg_price_per_room_type['room_type'],\n",
    "           y = avg_price_per_room_type['price']);\n",
    "plt.errorbar(x = avg_price_per_room_type['room_type'],\n",
    "           y = avg_price_per_room_type['price'], yerr=avg_price_per_room_type['std_price'],\n",
    "             fmt='none', color='black', capsize=5)\n",
    "plt.title('Average price per room type', fontsize = 22)\n",
    "plt.xlabel('Room Type', fontsize = 18)\n",
    "plt.xticks(fontsize = 18)\n",
    "plt.yticks(fontsize = 18)\n",
    "plt.ylabel('AVG Price', fontsize = 18)\n",
    "plt.show()"
   ]
  },
  {
   "cell_type": "code",
   "execution_count": 64,
   "id": "5382c883",
   "metadata": {},
   "outputs": [
    {
     "data": {
      "text/plain": [
       "accommodates                     0.652218\n",
       "bathrooms                        0.516424\n",
       "bedrooms                         0.627720\n",
       "beds                             0.589525\n",
       "price                            1.000000\n",
       "weekly_price                     0.394486\n",
       "monthly_price                    0.275787\n",
       "security_deposit                 0.333579\n",
       "cleaning_fee                     0.576423\n",
       "guests_included                  0.392875\n",
       "reviews_per_month               -0.218588\n",
       "available_Cable TV               0.237309\n",
       "available_Family/Kid Friendly    0.259901\n",
       "available_TV                     0.222488\n",
       "Name: price, dtype: float64"
      ]
     },
     "execution_count": 64,
     "metadata": {},
     "output_type": "execute_result"
    }
   ],
   "source": [
    "corr_matrx[(corr_matrx['price'] > 0.2) | (corr_matrx['price'] < -0.2)]['price']"
   ]
  },
  {
   "cell_type": "code",
   "execution_count": 65,
   "id": "6f41db40",
   "metadata": {},
   "outputs": [
    {
     "data": {
      "text/plain": [
       "array(['Queen Anne', 'Ballard', 'Other neighborhoods', 'Cascade',\n",
       "       'Central Area', 'University District', 'Downtown', 'Magnolia',\n",
       "       'West Seattle', 'Interbay', 'Beacon Hill', 'Rainier Valley',\n",
       "       'Delridge', 'Seward Park', 'Northgate', 'Capitol Hill',\n",
       "       'Lake City'], dtype=object)"
      ]
     },
     "execution_count": 65,
     "metadata": {},
     "output_type": "execute_result"
    }
   ],
   "source": [
    "li.neighbourhood_group_cleansed.unique()"
   ]
  },
  {
   "cell_type": "code",
   "execution_count": 66,
   "id": "0a6a26cc",
   "metadata": {},
   "outputs": [
    {
     "data": {
      "text/plain": [
       "count    3171.000000\n",
       "mean       94.539262\n",
       "std         6.606083\n",
       "min        20.000000\n",
       "25%        93.000000\n",
       "50%        96.000000\n",
       "75%        99.000000\n",
       "max       100.000000\n",
       "Name: review_scores_rating, dtype: float64"
      ]
     },
     "execution_count": 66,
     "metadata": {},
     "output_type": "execute_result"
    }
   ],
   "source": [
    "li.review_scores_rating.describe()"
   ]
  },
  {
   "cell_type": "markdown",
   "id": "02608b6e",
   "metadata": {},
   "source": [
    "## property type percentage"
   ]
  },
  {
   "cell_type": "code",
   "execution_count": 67,
   "id": "2aab52b7",
   "metadata": {},
   "outputs": [
    {
     "data": {
      "image/png": "[encoded data removed]",
      "text/plain": [
       "<Figure size 1080x1080 with 1 Axes>"
      ]
     },
     "metadata": {},
     "output_type": "display_data"
    }
   ],
   "source": [
    "plt.figure(figsize=(15, 15))\n",
    "property_type_df = li.groupby('property_type')['id'].count().to_frame()\n",
    "property_type_df.sort_values(by = 'id',ascending=False,inplace=True)\n",
    "plt.pie(property_type_df['id'],autopct='%.0f%%')\n",
    "plt.legend(labels = list(property_type_df.index),loc='best')\n",
    "plt.title('property type percentage', fontsize = 22)\n",
    "plt.show()"
   ]
  },
  {
   "cell_type": "code",
   "execution_count": 68,
   "id": "5c63e5cd",
   "metadata": {},
   "outputs": [
    {
     "data": {
      "text/html": [
       "<div>\n",
       "<style scoped>\n",
       "    .dataframe tbody tr th:only-of-type {\n",
       "        vertical-align: middle;\n",
       "    }\n",
       "\n",
       "    .dataframe tbody tr th {\n",
       "        vertical-align: top;\n",
       "    }\n",
       "\n",
       "    .dataframe thead th {\n",
       "        text-align: right;\n",
       "    }\n",
       "</style>\n",
       "<table border=\"1\" class=\"dataframe\">\n",
       "  <thead>\n",
       "    <tr style=\"text-align: right;\">\n",
       "      <th></th>\n",
       "      <th>last_scraped</th>\n",
       "      <th>host_since</th>\n",
       "      <th>calendar_last_scraped</th>\n",
       "      <th>first_review</th>\n",
       "      <th>last_review</th>\n",
       "    </tr>\n",
       "  </thead>\n",
       "  <tbody>\n",
       "    <tr>\n",
       "      <th>0</th>\n",
       "      <td>2016-01-04</td>\n",
       "      <td>2011-08-11</td>\n",
       "      <td>2016-01-04</td>\n",
       "      <td>2011-11-01</td>\n",
       "      <td>2016-01-02</td>\n",
       "    </tr>\n",
       "    <tr>\n",
       "      <th>1</th>\n",
       "      <td>2016-01-04</td>\n",
       "      <td>2013-02-21</td>\n",
       "      <td>2016-01-04</td>\n",
       "      <td>2013-08-19</td>\n",
       "      <td>2015-12-29</td>\n",
       "    </tr>\n",
       "    <tr>\n",
       "      <th>2</th>\n",
       "      <td>2016-01-04</td>\n",
       "      <td>2014-06-12</td>\n",
       "      <td>2016-01-04</td>\n",
       "      <td>2014-07-30</td>\n",
       "      <td>2015-09-03</td>\n",
       "    </tr>\n",
       "  </tbody>\n",
       "</table>\n",
       "</div>"
      ],
      "text/plain": [
       "  last_scraped host_since calendar_last_scraped first_review last_review\n",
       "0   2016-01-04 2011-08-11            2016-01-04   2011-11-01  2016-01-02\n",
       "1   2016-01-04 2013-02-21            2016-01-04   2013-08-19  2015-12-29\n",
       "2   2016-01-04 2014-06-12            2016-01-04   2014-07-30  2015-09-03"
      ]
     },
     "execution_count": 68,
     "metadata": {},
     "output_type": "execute_result"
    }
   ],
   "source": [
    "li[date_columns].head(3)"
   ]
  },
  {
   "cell_type": "code",
   "execution_count": 69,
   "id": "06038c22",
   "metadata": {},
   "outputs": [
    {
     "data": {
      "text/plain": [
       "accommodates                     0.652218\n",
       "bathrooms                        0.516424\n",
       "bedrooms                         0.627720\n",
       "beds                             0.589525\n",
       "price                            1.000000\n",
       "weekly_price                     0.394486\n",
       "monthly_price                    0.275787\n",
       "security_deposit                 0.333579\n",
       "cleaning_fee                     0.576423\n",
       "guests_included                  0.392875\n",
       "reviews_per_month               -0.218588\n",
       "available_Cable TV               0.237309\n",
       "available_Family/Kid Friendly    0.259901\n",
       "available_TV                     0.222488\n",
       "Name: price, dtype: float64"
      ]
     },
     "execution_count": 69,
     "metadata": {},
     "output_type": "execute_result"
    }
   ],
   "source": [
    "corr_matrx[(corr_matrx['price'] > 0.2 ) | (corr_matrx['price'] < -0.2 )]['price']"
   ]
  },
  {
   "cell_type": "markdown",
   "id": "31176237",
   "metadata": {},
   "source": [
    "## price distribution"
   ]
  },
  {
   "cell_type": "code",
   "execution_count": 70,
   "id": "1ba34971",
   "metadata": {},
   "outputs": [
    {
     "data": {
      "image/png": "[encoded data removed]",
      "text/plain": [
       "<Figure size 1440x720 with 1 Axes>"
      ]
     },
     "metadata": {
      "needs_background": "light"
     },
     "output_type": "display_data"
    }
   ],
   "source": [
    "plt.figure(figsize = (20,10))\n",
    "sns.boxplot(x = li.price)\n",
    "plt.title('Price distribution', fontsize = 22)\n",
    "plt.show()"
   ]
  },
  {
   "cell_type": "markdown",
   "id": "8a19950d",
   "metadata": {},
   "source": [
    "## Price per bedrooms number"
   ]
  },
  {
   "cell_type": "code",
   "execution_count": 71,
   "id": "5fcc595b",
   "metadata": {},
   "outputs": [
    {
     "data": {
      "image/png": "[encoded data removed]",
      "text/plain": [
       "<Figure size 1440x720 with 1 Axes>"
      ]
     },
     "metadata": {
      "needs_background": "light"
     },
     "output_type": "display_data"
    }
   ],
   "source": [
    "plt.figure(figsize = (20, 10))\n",
    "sns.lineplot(x = li.bedrooms, y = li.price)\n",
    "plt.title('Price per bedrooms number', fontsize = 22)\n",
    "plt.xlabel('Number of bedrooms', fontsize = 18)\n",
    "plt.ylabel('Price in USD ($)', fontsize = 18)\n",
    "plt.show()"
   ]
  },
  {
   "cell_type": "markdown",
   "id": "d4b173f9",
   "metadata": {},
   "source": [
    "# **Conclusion**"
   ]
  },
  {
   "cell_type": "markdown",
   "id": "5e300734",
   "metadata": {},
   "source": [
    "<div style=\"font-family: 'Courier New', monospace;\">\n",
    "\n",
    "<ul style=\"list-style-type: none; padding-left: 0;\">\n",
    "    <li style=\"list-style-type: none;\">&#9654; <b>## Calendar:</b></li>\n",
    "</ul>\n",
    "\n",
    "- During the summer months of June, July, and August, there is a noticeable increase in average prices, likely due to higher demand from tourists and vacationers.\n",
    "- The number of reservations shows significant spikes in December and March, indicating potential peak travel seasons or holiday periods.\n",
    "\n",
    "<ul style=\"list-style-type: none; padding-left: 0;\">\n",
    "    <li style=\"list-style-type: none;\">&#9654; <b>## Listings:</b></li>\n",
    "</ul>\n",
    "\n",
    "- Becoming a super host and maintaining a high response rate positively influence review scores, while certain amenities such as allowing pets, providing free parking, and offering a first aid kit contribute positively, albeit to a lesser extent.\n",
    "- On average, the price of an entire home is approximately 200% of the price of a private room and 300% of the price of a shared room, suggesting higher demand for entire accommodations.\n",
    "- The vast majority (90%) of reservations are for houses or apartments, highlighting a preference for these types of accommodations among guests.\n",
    "- Reservation prices typically range from $20 to $262.5 USD, with many outliers exceeding $1000 USD, indicating a wide range of pricing options in the market.\n",
    "- The number of bedrooms in a listing strongly influences reservation prices, accounting for approximately 62.77% of the variance in pricing.\n",
    "\n",
    "<ul style=\"list-style-type: none; padding-left: 0;\">\n",
    "    <li style=\"list-style-type: none;\">&#9654; <b>## Reviews:</b></li>\n",
    "</ul>\n",
    "\n",
    "- The dataset does not contain numerical columns for reviews, limiting the ability to perform quantitative analysis. However, natural language processing techniques could be applied to classify and analyze the content of reviews, providing insights into guest satisfaction, common issues, and areas for improvement.\n",
    "\n",
    "</div>\n",
    ".\n",
    "\n",
    "</div>\n",
    "nt.\n",
    "\n",
    "</div>\n",
    " improvement."
   ]
  },
  {
   "cell_type": "code",
   "execution_count": null,
   "id": "046094dd-94e4-416f-9543-c523bc7b6628",
   "metadata": {},
   "outputs": [],
   "source": []
  }
 ],
 "metadata": {
  "kernelspec": {
   "display_name": "Python 3 (ipykernel)",
   "language": "python",
   "name": "python3"
  },
  "language_info": {
   "codemirror_mode": {
    "name": "ipython",
    "version": 3
   },
   "file_extension": ".py",
   "mimetype": "text/x-python",
   "name": "python",
   "nbconvert_exporter": "python",
   "pygments_lexer": "ipython3",
   "version": "3.11.7"
  }
 },
 "nbformat": 4,
 "nbformat_minor": 5
}
